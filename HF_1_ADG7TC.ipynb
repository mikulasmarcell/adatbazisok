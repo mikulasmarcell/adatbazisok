{
    "metadata": {
        "kernelspec": {
            "name": "SQL",
            "display_name": "SQL",
            "language": "sql"
        },
        "language_info": {
            "name": "sql",
            "version": ""
        }
    },
    "nbformat_minor": 2,
    "nbformat": 4,
    "cells": [
        {
            "cell_type": "markdown",
            "source": [
                "## **Lakások lokációs/lift/szoba eloszlása**"
            ],
            "metadata": {
                "language": "sql",
                "azdata_cell_guid": "8f1db1ec-1c4c-4ee2-a100-e73d5a29f487"
            },
            "attachments": {}
        },
        {
            "cell_type": "code",
            "source": [
                "SELECT side +' - '+ IIF(Elevator=1,'Van Lift','Nincs Lift')+' - '+ IIF(NumberOfRooms%1=0.50,'Félszobás','Teljes szobás')AS 'Kategória',COUNT(*) AS 'Darabszám'\n",
                "FROM Flat\n",
                "group by Side, Elevator, IIF(NumberOfRooms%1=0.50,'Félszobás','Teljes szobás')\n",
                "ORDER BY 2"
            ],
            "metadata": {
                "azdata_cell_guid": "05421bd7-5c14-4638-9214-6cb3a8b36e86",
                "language": "sql",
                "tags": []
            },
            "outputs": [
                {
                    "output_type": "display_data",
                    "data": {
                        "text/html": "(7 rows affected)"
                    },
                    "metadata": {}
                },
                {
                    "output_type": "display_data",
                    "data": {
                        "text/html": "Total execution time: 00:00:00.883"
                    },
                    "metadata": {}
                },
                {
                    "output_type": "execute_result",
                    "metadata": {
                        "azdata_chartOptions": {
                            "type": "pie",
                            "dataDirection": "vertical",
                            "columnsAsLabels": true,
                            "labelFirstColumn": false,
                            "legendPosition": "top"
                        }
                    },
                    "execution_count": 61,
                    "data": {
                        "application/vnd.dataresource+json": {
                            "schema": {
                                "fields": [
                                    {
                                        "name": "Kategória"
                                    },
                                    {
                                        "name": "Darabszám"
                                    }
                                ]
                            },
                            "data": [
                                {
                                    "Kategória": "Buda - Van Lift - Teljes szobás",
                                    "Darabszám": "1"
                                },
                                {
                                    "Kategória": "Buda - Nincs Lift - Félszobás",
                                    "Darabszám": "2"
                                },
                                {
                                    "Kategória": "Pest - Van Lift - Félszobás",
                                    "Darabszám": "8"
                                },
                                {
                                    "Kategória": "Buda - Nincs Lift - Teljes szobás",
                                    "Darabszám": "10"
                                },
                                {
                                    "Kategória": "Pest - Van Lift - Teljes szobás",
                                    "Darabszám": "15"
                                },
                                {
                                    "Kategória": "Pest - Nincs Lift - Félszobás",
                                    "Darabszám": "16"
                                },
                                {
                                    "Kategória": "Pest - Nincs Lift - Teljes szobás",
                                    "Darabszám": "52"
                                }
                            ]
                        },
                        "text/html": [
                            "<table>",
                            "<tr><th>Kategória</th><th>Darabszám</th></tr>",
                            "<tr><td>Buda - Van Lift - Teljes szobás</td><td>1</td></tr>",
                            "<tr><td>Buda - Nincs Lift - Félszobás</td><td>2</td></tr>",
                            "<tr><td>Pest - Van Lift - Félszobás</td><td>8</td></tr>",
                            "<tr><td>Buda - Nincs Lift - Teljes szobás</td><td>10</td></tr>",
                            "<tr><td>Pest - Van Lift - Teljes szobás</td><td>15</td></tr>",
                            "<tr><td>Pest - Nincs Lift - Félszobás</td><td>16</td></tr>",
                            "<tr><td>Pest - Nincs Lift - Teljes szobás</td><td>52</td></tr>",
                            "</table>"
                        ]
                    }
                }
            ],
            "execution_count": 61
        },
        {
            "cell_type": "markdown",
            "source": [
                "## **Kerületenkénti átlag négyzetméter ár**"
            ],
            "metadata": {
                "language": "sql",
                "azdata_cell_guid": "56b8dd3d-4d5f-4a9e-ae57-92b2367118a8"
            },
            "attachments": {}
        },
        {
            "cell_type": "code",
            "source": [
                "SELECT District AS 'Kerület', AVG(FloorArea) AS 'Átlag négyzetméter'\n",
                "FROM Flat\n",
                "GROUP BY District\n",
                ""
            ],
            "metadata": {
                "language": "sql",
                "azdata_cell_guid": "fca1682e-1f00-46ea-984b-3b01fcd67eb9"
            },
            "outputs": [
                {
                    "output_type": "display_data",
                    "data": {
                        "text/html": "(19 rows affected)"
                    },
                    "metadata": {}
                },
                {
                    "output_type": "display_data",
                    "data": {
                        "text/html": "Total execution time: 00:00:01.320"
                    },
                    "metadata": {}
                },
                {
                    "output_type": "execute_result",
                    "metadata": {
                        "azdata_chartOptions": {
                            "type": "bar",
                            "dataDirection": "horizontal",
                            "columnsAsLabels": true,
                            "labelFirstColumn": true,
                            "legendPosition": "bottom"
                        }
                    },
                    "execution_count": 39,
                    "data": {
                        "application/vnd.dataresource+json": {
                            "schema": {
                                "fields": [
                                    {
                                        "name": "Kerület"
                                    },
                                    {
                                        "name": "Átlag négyzetméter"
                                    }
                                ]
                            },
                            "data": [
                                {
                                    "Kerület": "1",
                                    "Átlag négyzetméter": "55"
                                },
                                {
                                    "Kerület": "2",
                                    "Átlag négyzetméter": "73"
                                },
                                {
                                    "Kerület": "3",
                                    "Átlag négyzetméter": "53"
                                },
                                {
                                    "Kerület": "4",
                                    "Átlag négyzetméter": "65"
                                },
                                {
                                    "Kerület": "5",
                                    "Átlag négyzetméter": "86"
                                },
                                {
                                    "Kerület": "6",
                                    "Átlag négyzetméter": "68"
                                },
                                {
                                    "Kerület": "7",
                                    "Átlag négyzetméter": "65"
                                },
                                {
                                    "Kerület": "8",
                                    "Átlag négyzetméter": "65"
                                },
                                {
                                    "Kerület": "9",
                                    "Átlag négyzetméter": "67"
                                },
                                {
                                    "Kerület": "10",
                                    "Átlag négyzetméter": "46"
                                },
                                {
                                    "Kerület": "11",
                                    "Átlag négyzetméter": "85"
                                },
                                {
                                    "Kerület": "12",
                                    "Átlag négyzetméter": "79"
                                },
                                {
                                    "Kerület": "13",
                                    "Átlag négyzetméter": "53"
                                },
                                {
                                    "Kerület": "14",
                                    "Átlag négyzetméter": "45"
                                },
                                {
                                    "Kerület": "15",
                                    "Átlag négyzetméter": "52"
                                },
                                {
                                    "Kerület": "17",
                                    "Átlag négyzetméter": "78"
                                },
                                {
                                    "Kerület": "18",
                                    "Átlag négyzetméter": "60"
                                },
                                {
                                    "Kerület": "20",
                                    "Átlag négyzetméter": "90"
                                },
                                {
                                    "Kerület": "21",
                                    "Átlag négyzetméter": "35"
                                }
                            ]
                        },
                        "text/html": [
                            "<table>",
                            "<tr><th>Kerület</th><th>Átlag négyzetméter</th></tr>",
                            "<tr><td>1</td><td>55</td></tr>",
                            "<tr><td>2</td><td>73</td></tr>",
                            "<tr><td>3</td><td>53</td></tr>",
                            "<tr><td>4</td><td>65</td></tr>",
                            "<tr><td>5</td><td>86</td></tr>",
                            "<tr><td>6</td><td>68</td></tr>",
                            "<tr><td>7</td><td>65</td></tr>",
                            "<tr><td>8</td><td>65</td></tr>",
                            "<tr><td>9</td><td>67</td></tr>",
                            "<tr><td>10</td><td>46</td></tr>",
                            "<tr><td>11</td><td>85</td></tr>",
                            "<tr><td>12</td><td>79</td></tr>",
                            "<tr><td>13</td><td>53</td></tr>",
                            "<tr><td>14</td><td>45</td></tr>",
                            "<tr><td>15</td><td>52</td></tr>",
                            "<tr><td>17</td><td>78</td></tr>",
                            "<tr><td>18</td><td>60</td></tr>",
                            "<tr><td>20</td><td>90</td></tr>",
                            "<tr><td>21</td><td>35</td></tr>",
                            "</table>"
                        ]
                    }
                }
            ],
            "execution_count": 39
        },
        {
            "cell_type": "markdown",
            "source": [
                "## **Kerületenkénti maximum, minimum és átlag ár**"
            ],
            "metadata": {
                "language": "sql",
                "azdata_cell_guid": "7726d2f2-313d-4e61-b178-431d16349522"
            },
            "attachments": {}
        },
        {
            "cell_type": "code",
            "source": [
                "SELECT District, max(Price) AS 'Maximum ár', MIN(Price) As 'Minimum ár',ROUND(AVG(Price),1) AS 'Átlag ár'\n",
                "\n",
                "From Flat\n",
                "group BY District\n",
                "HAVING max(Price)<>min(Price)\n",
                "Order by 4"
            ],
            "metadata": {
                "azdata_cell_guid": "af92cbd2-7c95-47b7-9d08-38bcdf2f239b",
                "language": "sql"
            },
            "outputs": [
                {
                    "output_type": "display_data",
                    "data": {
                        "text/html": "(15 rows affected)"
                    },
                    "metadata": {}
                },
                {
                    "output_type": "display_data",
                    "data": {
                        "text/html": "Total execution time: 00:00:00.128"
                    },
                    "metadata": {}
                },
                {
                    "output_type": "execute_result",
                    "metadata": {},
                    "execution_count": 69,
                    "data": {
                        "application/vnd.dataresource+json": {
                            "schema": {
                                "fields": [
                                    {
                                        "name": "District"
                                    },
                                    {
                                        "name": "Maximum ár"
                                    },
                                    {
                                        "name": "Minimum ár"
                                    },
                                    {
                                        "name": "Átlag ár"
                                    }
                                ]
                            },
                            "data": [
                                {
                                    "District": "10",
                                    "Maximum ár": "10.40",
                                    "Minimum ár": "6.90",
                                    "Átlag ár": "8.700000"
                                },
                                {
                                    "District": "14",
                                    "Maximum ár": "13.50",
                                    "Minimum ár": "8.50",
                                    "Átlag ár": "10.800000"
                                },
                                {
                                    "District": "15",
                                    "Maximum ár": "12.60",
                                    "Minimum ár": "10.50",
                                    "Átlag ár": "11.400000"
                                },
                                {
                                    "District": "4",
                                    "Maximum ár": "12.00",
                                    "Minimum ár": "11.00",
                                    "Átlag ár": "11.500000"
                                },
                                {
                                    "District": "8",
                                    "Maximum ár": "21.90",
                                    "Minimum ár": "7.90",
                                    "Átlag ár": "14.000000"
                                },
                                {
                                    "District": "13",
                                    "Maximum ár": "36.00",
                                    "Minimum ár": "6.20",
                                    "Átlag ár": "14.600000"
                                },
                                {
                                    "District": "3",
                                    "Maximum ár": "20.50",
                                    "Minimum ár": "11.90",
                                    "Átlag ár": "16.200000"
                                },
                                {
                                    "District": "7",
                                    "Maximum ár": "29.90",
                                    "Minimum ár": "7.50",
                                    "Átlag ár": "17.200000"
                                },
                                {
                                    "District": "9",
                                    "Maximum ár": "43.00",
                                    "Minimum ár": "8.90",
                                    "Átlag ár": "18.300000"
                                },
                                {
                                    "District": "6",
                                    "Maximum ár": "37.30",
                                    "Minimum ár": "12.00",
                                    "Átlag ár": "19.400000"
                                },
                                {
                                    "District": "11",
                                    "Maximum ár": "29.00",
                                    "Minimum ár": "11.50",
                                    "Átlag ár": "20.300000"
                                },
                                {
                                    "District": "1",
                                    "Maximum ár": "29.90",
                                    "Minimum ár": "11.00",
                                    "Átlag ár": "20.500000"
                                },
                                {
                                    "District": "2",
                                    "Maximum ár": "35.00",
                                    "Minimum ár": "16.00",
                                    "Átlag ár": "23.000000"
                                },
                                {
                                    "District": "5",
                                    "Maximum ár": "42.90",
                                    "Minimum ár": "25.90",
                                    "Átlag ár": "31.400000"
                                },
                                {
                                    "District": "12",
                                    "Maximum ár": "39.00",
                                    "Minimum ár": "32.90",
                                    "Átlag ár": "36.000000"
                                }
                            ]
                        },
                        "text/html": [
                            "<table>",
                            "<tr><th>District</th><th>Maximum ár</th><th>Minimum ár</th><th>Átlag ár</th></tr>",
                            "<tr><td>10</td><td>10.40</td><td>6.90</td><td>8.700000</td></tr>",
                            "<tr><td>14</td><td>13.50</td><td>8.50</td><td>10.800000</td></tr>",
                            "<tr><td>15</td><td>12.60</td><td>10.50</td><td>11.400000</td></tr>",
                            "<tr><td>4</td><td>12.00</td><td>11.00</td><td>11.500000</td></tr>",
                            "<tr><td>8</td><td>21.90</td><td>7.90</td><td>14.000000</td></tr>",
                            "<tr><td>13</td><td>36.00</td><td>6.20</td><td>14.600000</td></tr>",
                            "<tr><td>3</td><td>20.50</td><td>11.90</td><td>16.200000</td></tr>",
                            "<tr><td>7</td><td>29.90</td><td>7.50</td><td>17.200000</td></tr>",
                            "<tr><td>9</td><td>43.00</td><td>8.90</td><td>18.300000</td></tr>",
                            "<tr><td>6</td><td>37.30</td><td>12.00</td><td>19.400000</td></tr>",
                            "<tr><td>11</td><td>29.00</td><td>11.50</td><td>20.300000</td></tr>",
                            "<tr><td>1</td><td>29.90</td><td>11.00</td><td>20.500000</td></tr>",
                            "<tr><td>2</td><td>35.00</td><td>16.00</td><td>23.000000</td></tr>",
                            "<tr><td>5</td><td>42.90</td><td>25.90</td><td>31.400000</td></tr>",
                            "<tr><td>12</td><td>39.00</td><td>32.90</td><td>36.000000</td></tr>",
                            "</table>"
                        ]
                    }
                }
            ],
            "execution_count": 69
        },
        {
            "cell_type": "markdown",
            "source": [
                "## **Átlag ár szobák alapján**"
            ],
            "metadata": {
                "language": "sql",
                "azdata_cell_guid": "c755856f-fd0e-45ce-b792-b9d037a1cb6d"
            },
            "attachments": {}
        },
        {
            "cell_type": "code",
            "source": [
                "SELECT NumberOfRooms AS 'Szobák száma',round(AVG(Price),1) AS 'Átlag ár (millió FT)'\n",
                "FROM Flat\n",
                "group by NumberOfRooms\n",
                ""
            ],
            "metadata": {
                "azdata_cell_guid": "132da242-874f-4655-8bbc-7479fbd9f814",
                "language": "sql"
            },
            "outputs": [
                {
                    "output_type": "display_data",
                    "data": {
                        "text/html": "(9 rows affected)"
                    },
                    "metadata": {}
                },
                {
                    "output_type": "display_data",
                    "data": {
                        "text/html": "Total execution time: 00:00:00.081"
                    },
                    "metadata": {}
                },
                {
                    "output_type": "execute_result",
                    "execution_count": 40,
                    "data": {
                        "application/vnd.dataresource+json": {
                            "schema": {
                                "fields": [
                                    {
                                        "name": "Szobák száma"
                                    },
                                    {
                                        "name": "Átlag ár (millió FT)"
                                    }
                                ]
                            },
                            "data": [
                                {
                                    "Szobák száma": "1.00",
                                    "Átlag ár (millió FT)": "10.400000"
                                },
                                {
                                    "Szobák száma": "1.50",
                                    "Átlag ár (millió FT)": "12.300000"
                                },
                                {
                                    "Szobák száma": "2.00",
                                    "Átlag ár (millió FT)": "17.900000"
                                },
                                {
                                    "Szobák száma": "2.50",
                                    "Átlag ár (millió FT)": "16.800000"
                                },
                                {
                                    "Szobák száma": "3.00",
                                    "Átlag ár (millió FT)": "23.000000"
                                },
                                {
                                    "Szobák száma": "3.50",
                                    "Átlag ár (millió FT)": "27.600000"
                                },
                                {
                                    "Szobák száma": "4.00",
                                    "Átlag ár (millió FT)": "34.000000"
                                },
                                {
                                    "Szobák száma": "4.50",
                                    "Átlag ár (millió FT)": "37.300000"
                                },
                                {
                                    "Szobák száma": "5.00",
                                    "Átlag ár (millió FT)": "27.000000"
                                }
                            ]
                        },
                        "text/html": "<table><tr><th>Szobák száma</th><th>Átlag ár (millió FT)</th></tr><tr><td>1.00</td><td>10.400000</td></tr><tr><td>1.50</td><td>12.300000</td></tr><tr><td>2.00</td><td>17.900000</td></tr><tr><td>2.50</td><td>16.800000</td></tr><tr><td>3.00</td><td>23.000000</td></tr><tr><td>3.50</td><td>27.600000</td></tr><tr><td>4.00</td><td>34.000000</td></tr><tr><td>4.50</td><td>37.300000</td></tr><tr><td>5.00</td><td>27.000000</td></tr></table>"
                    },
                    "metadata": {
                        "azdata_chartOptions": {
                            "type": "bar",
                            "dataDirection": "horizontal",
                            "columnsAsLabels": true,
                            "labelFirstColumn": true,
                            "legendPosition": "top"
                        }
                    }
                }
            ],
            "execution_count": 40
        },
        {
            "cell_type": "markdown",
            "source": [
                "## **2-nél több ingatlan értékesítéssel foglalkozó ingatlanügynökök és ingatlanok száma**"
            ],
            "metadata": {
                "language": "sql",
                "azdata_cell_guid": "fe506d23-fda5-40a0-affa-6ce5b37aafa0"
            },
            "attachments": {}
        },
        {
            "cell_type": "code",
            "source": [
                "SELECT Vendor,count(*) AS 'Darabszám'\n",
                "FROM Flat\n",
                "GROUP BY Vendor\n",
                "HAVING count(*)>2\n",
                "order BY count(*) DESC"
            ],
            "metadata": {
                "language": "sql",
                "azdata_cell_guid": "6f41aaaa-37f2-4c6f-8b3a-23bba634b82c"
            },
            "outputs": [
                {
                    "output_type": "display_data",
                    "data": {
                        "text/html": "(10 rows affected)"
                    },
                    "metadata": {}
                },
                {
                    "output_type": "display_data",
                    "data": {
                        "text/html": "Total execution time: 00:00:00.394"
                    },
                    "metadata": {}
                },
                {
                    "output_type": "execute_result",
                    "metadata": {
                        "azdata_chartOptions": {
                            "type": "bar",
                            "dataDirection": "horizontal",
                            "columnsAsLabels": true,
                            "labelFirstColumn": true,
                            "legendPosition": "bottom",
                            "yAxisMax": 7
                        }
                    },
                    "execution_count": 18,
                    "data": {
                        "application/vnd.dataresource+json": {
                            "schema": {
                                "fields": [
                                    {
                                        "name": "Vendor"
                                    },
                                    {
                                        "name": "Darabszám"
                                    }
                                ]
                            },
                            "data": [
                                {
                                    "Vendor": "Cassandra  Franklin",
                                    "Darabszám": "6"
                                },
                                {
                                    "Vendor": "Shari  Silva",
                                    "Darabszám": "6"
                                },
                                {
                                    "Vendor": "Billie  Chandler",
                                    "Darabszám": "5"
                                },
                                {
                                    "Vendor": "Rachel  Gomez",
                                    "Darabszám": "5"
                                },
                                {
                                    "Vendor": "Andrew  Meyer",
                                    "Darabszám": "4"
                                },
                                {
                                    "Vendor": "Drew  Rogers",
                                    "Darabszám": "4"
                                },
                                {
                                    "Vendor": "Eric  Rose",
                                    "Darabszám": "4"
                                },
                                {
                                    "Vendor": "Isabel  Cross",
                                    "Darabszám": "4"
                                },
                                {
                                    "Vendor": "Jenny  Garcia",
                                    "Darabszám": "4"
                                },
                                {
                                    "Vendor": "Robert  Munoz",
                                    "Darabszám": "3"
                                }
                            ]
                        },
                        "text/html": [
                            "<table>",
                            "<tr><th>Vendor</th><th>Darabszám</th></tr>",
                            "<tr><td>Cassandra  Franklin</td><td>6</td></tr>",
                            "<tr><td>Shari  Silva</td><td>6</td></tr>",
                            "<tr><td>Billie  Chandler</td><td>5</td></tr>",
                            "<tr><td>Rachel  Gomez</td><td>5</td></tr>",
                            "<tr><td>Andrew  Meyer</td><td>4</td></tr>",
                            "<tr><td>Drew  Rogers</td><td>4</td></tr>",
                            "<tr><td>Eric  Rose</td><td>4</td></tr>",
                            "<tr><td>Isabel  Cross</td><td>4</td></tr>",
                            "<tr><td>Jenny  Garcia</td><td>4</td></tr>",
                            "<tr><td>Robert  Munoz</td><td>3</td></tr>",
                            "</table>"
                        ]
                    }
                }
            ],
            "execution_count": 18
        },
        {
            "cell_type": "markdown",
            "source": [
                "## **50 és 70 M Ft közötti lakások kerületenként száma 1-nél több értékkel**"
            ],
            "metadata": {
                "language": "sql",
                "azdata_cell_guid": "31cf052e-7bb9-4e6f-a2be-6e748c700b27"
            },
            "attachments": {}
        },
        {
            "cell_type": "code",
            "source": [
                "SELECT District as 'Kerület',count(*) AS 'Lakások száma'\n",
                "FROM Flat\n",
                "WHERE FloorArea BETWEEN 50 and 70\n",
                "group by District\n",
                "HAVING count(*)>1"
            ],
            "metadata": {
                "azdata_cell_guid": "5324a855-79ef-4f3b-a933-7bb611b740cd",
                "language": "sql"
            },
            "outputs": [
                {
                    "output_type": "display_data",
                    "data": {
                        "text/html": "(4 rows affected)"
                    },
                    "metadata": {}
                },
                {
                    "output_type": "display_data",
                    "data": {
                        "text/html": "Total execution time: 00:00:00.421"
                    },
                    "metadata": {}
                },
                {
                    "output_type": "execute_result",
                    "metadata": {
                        "azdata_chartOptions": {
                            "type": "bar",
                            "dataDirection": "horizontal",
                            "columnsAsLabels": true,
                            "labelFirstColumn": true,
                            "legendPosition": "top",
                            "yAxisMax": 10
                        }
                    },
                    "execution_count": 59,
                    "data": {
                        "application/vnd.dataresource+json": {
                            "schema": {
                                "fields": [
                                    {
                                        "name": "Kerület"
                                    },
                                    {
                                        "name": "Lakások száma"
                                    }
                                ]
                            },
                            "data": [
                                {
                                    "Kerület": "2",
                                    "Lakások száma": "3"
                                },
                                {
                                    "Kerület": "6",
                                    "Lakások száma": "2"
                                },
                                {
                                    "Kerület": "9",
                                    "Lakások száma": "7"
                                },
                                {
                                    "Kerület": "13",
                                    "Lakások száma": "9"
                                }
                            ]
                        },
                        "text/html": [
                            "<table>",
                            "<tr><th>Kerület</th><th>Lakások száma</th></tr>",
                            "<tr><td>2</td><td>3</td></tr>",
                            "<tr><td>6</td><td>2</td></tr>",
                            "<tr><td>9</td><td>7</td></tr>",
                            "<tr><td>13</td><td>9</td></tr>",
                            "</table>"
                        ]
                    }
                }
            ],
            "execution_count": 59
        },
        {
            "cell_type": "markdown",
            "source": [
                "## **Ár/szobák aránya a 9. kerületbe 3 vagy annál több szoba esetén**"
            ],
            "metadata": {
                "language": "sql",
                "azdata_cell_guid": "8f6230a9-ef4a-4ebc-b58e-5578e65d3a13"
            },
            "attachments": {}
        },
        {
            "cell_type": "code",
            "source": [
                "SELECT Code, Price/NumberOfRooms AS \"Ár/szobák\"\n",
                "FROM Flat\n",
                "WHERE District = 9 AND NumberOfRooms >=3\n",
                "ORDER BY Price\n",
                ""
            ],
            "metadata": {
                "language": "sql",
                "azdata_cell_guid": "ce409390-2a4d-4f06-a544-9d9ec344e01f",
                "tags": []
            },
            "outputs": [
                {
                    "output_type": "display_data",
                    "data": {
                        "text/html": "(4 rows affected)"
                    },
                    "metadata": {}
                },
                {
                    "output_type": "display_data",
                    "data": {
                        "text/html": "Total execution time: 00:00:00.081"
                    },
                    "metadata": {}
                },
                {
                    "output_type": "execute_result",
                    "metadata": {
                        "azdata_chartOptions": {
                            "type": "bar",
                            "dataDirection": "horizontal",
                            "columnsAsLabels": true,
                            "labelFirstColumn": true,
                            "legendPosition": "bottom"
                        }
                    },
                    "execution_count": 44,
                    "data": {
                        "application/vnd.dataresource+json": {
                            "schema": {
                                "fields": [
                                    {
                                        "name": "Code"
                                    },
                                    {
                                        "name": "Ár/szobák"
                                    }
                                ]
                            },
                            "data": [
                                {
                                    "Code": "BI0965",
                                    "Ár/szobák": "9.66666666666666666666"
                                },
                                {
                                    "Code": "IR0944",
                                    "Ár/szobák": "9.96666666666666666666"
                                },
                                {
                                    "Code": "CA0959",
                                    "Ár/szobák": "10.28571428571428571428"
                                },
                                {
                                    "Code": "LU0965",
                                    "Ár/szobák": "10.75000000000000000000"
                                }
                            ]
                        },
                        "text/html": [
                            "<table>",
                            "<tr><th>Code</th><th>Ár/szobák</th></tr>",
                            "<tr><td>BI0965</td><td>9.66666666666666666666</td></tr>",
                            "<tr><td>IR0944</td><td>9.96666666666666666666</td></tr>",
                            "<tr><td>CA0959</td><td>10.28571428571428571428</td></tr>",
                            "<tr><td>LU0965</td><td>10.75000000000000000000</td></tr>",
                            "</table>"
                        ]
                    }
                }
            ],
            "execution_count": 44
        },
        {
            "cell_type": "markdown",
            "source": [
                "## **Kerületenként maximum, minimum és átlag négyzetméterenként**"
            ],
            "metadata": {
                "language": "sql",
                "azdata_cell_guid": "7ed36dba-d455-4b53-ba0c-3edb49441c5b"
            },
            "attachments": {}
        },
        {
            "cell_type": "code",
            "source": [
                "SELECT District,min(FloorArea) AS 'Legkisebb négyzetméter',MAX(FloorArea) AS 'Legnagyobb négyzetméter', round(avg(FloorArea),0) AS 'Átlag négyzetméter'\n",
                "FROM Flat\n",
                "group by District\n",
                "Order by 4\n",
                "\n",
                ""
            ],
            "metadata": {
                "language": "sql",
                "azdata_cell_guid": "2feb893b-d700-45fd-8131-0aa0d82d5792"
            },
            "outputs": [
                {
                    "output_type": "display_data",
                    "data": {
                        "text/html": "(19 rows affected)"
                    },
                    "metadata": {}
                },
                {
                    "output_type": "display_data",
                    "data": {
                        "text/html": "Total execution time: 00:00:01.593"
                    },
                    "metadata": {}
                },
                {
                    "output_type": "execute_result",
                    "metadata": {},
                    "execution_count": 72,
                    "data": {
                        "application/vnd.dataresource+json": {
                            "schema": {
                                "fields": [
                                    {
                                        "name": "District"
                                    },
                                    {
                                        "name": "Legkisebb négyzetméter"
                                    },
                                    {
                                        "name": "Legnagyobb négyzetméter"
                                    },
                                    {
                                        "name": "Átlag négyzetméter"
                                    }
                                ]
                            },
                            "data": [
                                {
                                    "District": "21",
                                    "Legkisebb négyzetméter": "35",
                                    "Legnagyobb négyzetméter": "35",
                                    "Átlag négyzetméter": "35"
                                },
                                {
                                    "District": "14",
                                    "Legkisebb négyzetméter": "29",
                                    "Legnagyobb négyzetméter": "68",
                                    "Átlag négyzetméter": "45"
                                },
                                {
                                    "District": "10",
                                    "Legkisebb négyzetméter": "36",
                                    "Legnagyobb négyzetméter": "53",
                                    "Átlag négyzetméter": "46"
                                },
                                {
                                    "District": "15",
                                    "Legkisebb négyzetméter": "32",
                                    "Legnagyobb négyzetméter": "71",
                                    "Átlag négyzetméter": "52"
                                },
                                {
                                    "District": "13",
                                    "Legkisebb négyzetméter": "23",
                                    "Legnagyobb négyzetméter": "96",
                                    "Átlag négyzetméter": "53"
                                },
                                {
                                    "District": "3",
                                    "Legkisebb négyzetméter": "38",
                                    "Legnagyobb négyzetméter": "69",
                                    "Átlag négyzetméter": "53"
                                },
                                {
                                    "District": "1",
                                    "Legkisebb négyzetméter": "40",
                                    "Legnagyobb négyzetméter": "70",
                                    "Átlag négyzetméter": "55"
                                },
                                {
                                    "District": "18",
                                    "Legkisebb négyzetméter": "60",
                                    "Legnagyobb négyzetméter": "60",
                                    "Átlag négyzetméter": "60"
                                },
                                {
                                    "District": "4",
                                    "Legkisebb négyzetméter": "59",
                                    "Legnagyobb négyzetméter": "72",
                                    "Átlag négyzetméter": "65"
                                },
                                {
                                    "District": "7",
                                    "Legkisebb négyzetméter": "33",
                                    "Legnagyobb négyzetméter": "97",
                                    "Átlag négyzetméter": "65"
                                },
                                {
                                    "District": "8",
                                    "Legkisebb négyzetméter": "27",
                                    "Legnagyobb négyzetméter": "110",
                                    "Átlag négyzetméter": "65"
                                },
                                {
                                    "District": "9",
                                    "Legkisebb négyzetméter": "30",
                                    "Legnagyobb négyzetméter": "160",
                                    "Átlag négyzetméter": "67"
                                },
                                {
                                    "District": "6",
                                    "Legkisebb négyzetméter": "42",
                                    "Legnagyobb négyzetméter": "153",
                                    "Átlag négyzetméter": "68"
                                },
                                {
                                    "District": "2",
                                    "Legkisebb négyzetméter": "57",
                                    "Legnagyobb négyzetméter": "99",
                                    "Átlag négyzetméter": "73"
                                },
                                {
                                    "District": "17",
                                    "Legkisebb négyzetméter": "78",
                                    "Legnagyobb négyzetméter": "78",
                                    "Átlag négyzetméter": "78"
                                },
                                {
                                    "District": "12",
                                    "Legkisebb négyzetméter": "68",
                                    "Legnagyobb négyzetméter": "91",
                                    "Átlag négyzetméter": "79"
                                },
                                {
                                    "District": "11",
                                    "Legkisebb négyzetméter": "65",
                                    "Legnagyobb négyzetméter": "105",
                                    "Átlag négyzetméter": "85"
                                },
                                {
                                    "District": "5",
                                    "Legkisebb négyzetméter": "62",
                                    "Legnagyobb négyzetméter": "120",
                                    "Átlag négyzetméter": "86"
                                },
                                {
                                    "District": "20",
                                    "Legkisebb négyzetméter": "90",
                                    "Legnagyobb négyzetméter": "90",
                                    "Átlag négyzetméter": "90"
                                }
                            ]
                        },
                        "text/html": [
                            "<table>",
                            "<tr><th>District</th><th>Legkisebb négyzetméter</th><th>Legnagyobb négyzetméter</th><th>Átlag négyzetméter</th></tr>",
                            "<tr><td>21</td><td>35</td><td>35</td><td>35</td></tr>",
                            "<tr><td>14</td><td>29</td><td>68</td><td>45</td></tr>",
                            "<tr><td>10</td><td>36</td><td>53</td><td>46</td></tr>",
                            "<tr><td>15</td><td>32</td><td>71</td><td>52</td></tr>",
                            "<tr><td>13</td><td>23</td><td>96</td><td>53</td></tr>",
                            "<tr><td>3</td><td>38</td><td>69</td><td>53</td></tr>",
                            "<tr><td>1</td><td>40</td><td>70</td><td>55</td></tr>",
                            "<tr><td>18</td><td>60</td><td>60</td><td>60</td></tr>",
                            "<tr><td>4</td><td>59</td><td>72</td><td>65</td></tr>",
                            "<tr><td>7</td><td>33</td><td>97</td><td>65</td></tr>",
                            "<tr><td>8</td><td>27</td><td>110</td><td>65</td></tr>",
                            "<tr><td>9</td><td>30</td><td>160</td><td>67</td></tr>",
                            "<tr><td>6</td><td>42</td><td>153</td><td>68</td></tr>",
                            "<tr><td>2</td><td>57</td><td>99</td><td>73</td></tr>",
                            "<tr><td>17</td><td>78</td><td>78</td><td>78</td></tr>",
                            "<tr><td>12</td><td>68</td><td>91</td><td>79</td></tr>",
                            "<tr><td>11</td><td>65</td><td>105</td><td>85</td></tr>",
                            "<tr><td>5</td><td>62</td><td>120</td><td>86</td></tr>",
                            "<tr><td>20</td><td>90</td><td>90</td><td>90</td></tr>",
                            "</table>"
                        ]
                    }
                }
            ],
            "execution_count": 72
        },
        {
            "cell_type": "markdown",
            "source": [
                "## **Átlag négyzetméter ár a piacon**"
            ],
            "metadata": {
                "language": "sql",
                "azdata_cell_guid": "3845bfc9-1cf4-475a-9d8c-268d377b7c2d"
            },
            "attachments": {}
        },
        {
            "cell_type": "code",
            "source": [
                "SELECT round(avg(FloorArea/Price),3) AS 'Átlag négyzetméter ár (M FT)'\n",
                "FROM Flat\n",
                ""
            ],
            "metadata": {
                "language": "sql",
                "azdata_cell_guid": "e37aab92-c30c-49b4-b204-8ee020dec442"
            },
            "outputs": [
                {
                    "output_type": "display_data",
                    "data": {
                        "text/html": "(1 row affected)"
                    },
                    "metadata": {}
                },
                {
                    "output_type": "display_data",
                    "data": {
                        "text/html": "Total execution time: 00:00:00.635"
                    },
                    "metadata": {}
                },
                {
                    "output_type": "execute_result",
                    "metadata": {},
                    "execution_count": 40,
                    "data": {
                        "application/vnd.dataresource+json": {
                            "schema": {
                                "fields": [
                                    {
                                        "name": "Átlag négyzetméter ár (M FT)"
                                    }
                                ]
                            },
                            "data": [
                                {
                                    "Átlag négyzetméter ár (M FT)": "3.8870000000000000000"
                                }
                            ]
                        },
                        "text/html": [
                            "<table>",
                            "<tr><th>Átlag négyzetméter ár (M FT)</th></tr>",
                            "<tr><td>3.8870000000000000000</td></tr>",
                            "</table>"
                        ]
                    }
                }
            ],
            "execution_count": 40
        }
    ]
}