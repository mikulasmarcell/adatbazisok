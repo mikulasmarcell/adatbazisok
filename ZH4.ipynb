{
    "metadata": {
        "kernelspec": {
            "name": "SQL",
            "display_name": "SQL",
            "language": "sql"
        },
        "language_info": {
            "name": "sql",
            "version": ""
        }
    },
    "nbformat_minor": 2,
    "nbformat": 4,
    "cells": [
        {
            "cell_type": "markdown",
            "source": [
                "Jelenítsük meg minden egyes szoba esetén, hogy hányszor foglalták le!\n",
                "\n",
                "- Csak a szoba azonosítója és a foglalások darabszáma jelenjen meg\n",
                "- Azok a szobák is jelenjenek meg, ahol nem történt foglalás"
            ],
            "metadata": {
                "azdata_cell_guid": "8259f46f-d363-4556-8de5-c940c7afedd6"
            },
            "attachments": {}
        },
        {
            "cell_type": "code",
            "source": [
                "SELECT sz.SZOBA_ID,\r\n",
                "        COUNT(f.FOGLALAS_PK) AS \"Foglalások (db)\"\r\n",
                "FROM  Szoba sz LEFT JOIN Foglalas f ON f.SZOBA_FK = sz.SZOBA_ID\r\n",
                "GROUP BY sz.SZOBA_ID\r\n",
                "            "
            ],
            "metadata": {
                "azdata_cell_guid": "e6ee231f-a3c6-4ea5-beaf-2c017eac369c",
                "language": "sql"
            },
            "outputs": [
                {
                    "output_type": "display_data",
                    "data": {
                        "text/html": "(294 rows affected)"
                    },
                    "metadata": {}
                },
                {
                    "output_type": "display_data",
                    "data": {
                        "text/html": "Total execution time: 00:00:00.010"
                    },
                    "metadata": {}
                },
                {
                    "output_type": "execute_result",
                    "metadata": {},
                    "execution_count": 23,
                    "data": {
                        "application/vnd.dataresource+json": {
                            "schema": {
                                "fields": [
                                    {
                                        "name": "SZOBA_ID"
                                    },
                                    {
                                        "name": "Foglalások (db)"
                                    }
                                ]
                            },
                            "data": [
                                {
                                    "SZOBA_ID": "1",
                                    "Foglalások (db)": "8"
                                },
                                {
                                    "SZOBA_ID": "2",
                                    "Foglalások (db)": "4"
                                },
                                {
                                    "SZOBA_ID": "3",
                                    "Foglalások (db)": "8"
                                },
                                {
                                    "SZOBA_ID": "4",
                                    "Foglalások (db)": "6"
                                },
                                {
                                    "SZOBA_ID": "5",
                                    "Foglalások (db)": "4"
                                },
                                {
                                    "SZOBA_ID": "6",
                                    "Foglalások (db)": "6"
                                },
                                {
                                    "SZOBA_ID": "7",
                                    "Foglalások (db)": "6"
                                },
                                {
                                    "SZOBA_ID": "8",
                                    "Foglalások (db)": "5"
                                },
                                {
                                    "SZOBA_ID": "9",
                                    "Foglalások (db)": "6"
                                },
                                {
                                    "SZOBA_ID": "10",
                                    "Foglalások (db)": "4"
                                },
                                {
                                    "SZOBA_ID": "11",
                                    "Foglalások (db)": "4"
                                },
                                {
                                    "SZOBA_ID": "12",
                                    "Foglalások (db)": "9"
                                },
                                {
                                    "SZOBA_ID": "13",
                                    "Foglalások (db)": "4"
                                },
                                {
                                    "SZOBA_ID": "14",
                                    "Foglalások (db)": "3"
                                },
                                {
                                    "SZOBA_ID": "15",
                                    "Foglalások (db)": "6"
                                },
                                {
                                    "SZOBA_ID": "16",
                                    "Foglalások (db)": "5"
                                },
                                {
                                    "SZOBA_ID": "17",
                                    "Foglalások (db)": "6"
                                },
                                {
                                    "SZOBA_ID": "18",
                                    "Foglalások (db)": "6"
                                },
                                {
                                    "SZOBA_ID": "19",
                                    "Foglalások (db)": "6"
                                },
                                {
                                    "SZOBA_ID": "20",
                                    "Foglalások (db)": "5"
                                },
                                {
                                    "SZOBA_ID": "21",
                                    "Foglalások (db)": "4"
                                },
                                {
                                    "SZOBA_ID": "22",
                                    "Foglalások (db)": "6"
                                },
                                {
                                    "SZOBA_ID": "23",
                                    "Foglalások (db)": "3"
                                },
                                {
                                    "SZOBA_ID": "24",
                                    "Foglalások (db)": "3"
                                },
                                {
                                    "SZOBA_ID": "25",
                                    "Foglalások (db)": "2"
                                },
                                {
                                    "SZOBA_ID": "26",
                                    "Foglalások (db)": "2"
                                },
                                {
                                    "SZOBA_ID": "27",
                                    "Foglalások (db)": "7"
                                },
                                {
                                    "SZOBA_ID": "28",
                                    "Foglalások (db)": "6"
                                },
                                {
                                    "SZOBA_ID": "29",
                                    "Foglalások (db)": "6"
                                },
                                {
                                    "SZOBA_ID": "30",
                                    "Foglalások (db)": "3"
                                },
                                {
                                    "SZOBA_ID": "31",
                                    "Foglalások (db)": "3"
                                },
                                {
                                    "SZOBA_ID": "32",
                                    "Foglalások (db)": "1"
                                },
                                {
                                    "SZOBA_ID": "33",
                                    "Foglalások (db)": "6"
                                },
                                {
                                    "SZOBA_ID": "34",
                                    "Foglalások (db)": "4"
                                },
                                {
                                    "SZOBA_ID": "35",
                                    "Foglalások (db)": "9"
                                },
                                {
                                    "SZOBA_ID": "36",
                                    "Foglalások (db)": "6"
                                },
                                {
                                    "SZOBA_ID": "37",
                                    "Foglalások (db)": "3"
                                },
                                {
                                    "SZOBA_ID": "38",
                                    "Foglalások (db)": "8"
                                },
                                {
                                    "SZOBA_ID": "39",
                                    "Foglalások (db)": "7"
                                },
                                {
                                    "SZOBA_ID": "40",
                                    "Foglalások (db)": "4"
                                },
                                {
                                    "SZOBA_ID": "41",
                                    "Foglalások (db)": "2"
                                },
                                {
                                    "SZOBA_ID": "42",
                                    "Foglalások (db)": "6"
                                },
                                {
                                    "SZOBA_ID": "43",
                                    "Foglalások (db)": "8"
                                },
                                {
                                    "SZOBA_ID": "44",
                                    "Foglalások (db)": "6"
                                },
                                {
                                    "SZOBA_ID": "45",
                                    "Foglalások (db)": "5"
                                },
                                {
                                    "SZOBA_ID": "46",
                                    "Foglalások (db)": "4"
                                },
                                {
                                    "SZOBA_ID": "47",
                                    "Foglalások (db)": "2"
                                },
                                {
                                    "SZOBA_ID": "48",
                                    "Foglalások (db)": "9"
                                },
                                {
                                    "SZOBA_ID": "49",
                                    "Foglalások (db)": "7"
                                },
                                {
                                    "SZOBA_ID": "50",
                                    "Foglalások (db)": "4"
                                },
                                {
                                    "SZOBA_ID": "51",
                                    "Foglalások (db)": "5"
                                },
                                {
                                    "SZOBA_ID": "52",
                                    "Foglalások (db)": "5"
                                },
                                {
                                    "SZOBA_ID": "53",
                                    "Foglalások (db)": "2"
                                },
                                {
                                    "SZOBA_ID": "54",
                                    "Foglalások (db)": "6"
                                },
                                {
                                    "SZOBA_ID": "55",
                                    "Foglalások (db)": "8"
                                },
                                {
                                    "SZOBA_ID": "56",
                                    "Foglalások (db)": "2"
                                },
                                {
                                    "SZOBA_ID": "57",
                                    "Foglalások (db)": "4"
                                },
                                {
                                    "SZOBA_ID": "58",
                                    "Foglalások (db)": "13"
                                },
                                {
                                    "SZOBA_ID": "59",
                                    "Foglalások (db)": "7"
                                },
                                {
                                    "SZOBA_ID": "60",
                                    "Foglalások (db)": "1"
                                },
                                {
                                    "SZOBA_ID": "61",
                                    "Foglalások (db)": "5"
                                },
                                {
                                    "SZOBA_ID": "62",
                                    "Foglalások (db)": "5"
                                },
                                {
                                    "SZOBA_ID": "63",
                                    "Foglalások (db)": "4"
                                },
                                {
                                    "SZOBA_ID": "64",
                                    "Foglalások (db)": "6"
                                },
                                {
                                    "SZOBA_ID": "65",
                                    "Foglalások (db)": "1"
                                },
                                {
                                    "SZOBA_ID": "66",
                                    "Foglalások (db)": "4"
                                },
                                {
                                    "SZOBA_ID": "67",
                                    "Foglalások (db)": "6"
                                },
                                {
                                    "SZOBA_ID": "68",
                                    "Foglalások (db)": "3"
                                },
                                {
                                    "SZOBA_ID": "69",
                                    "Foglalások (db)": "4"
                                },
                                {
                                    "SZOBA_ID": "70",
                                    "Foglalások (db)": "11"
                                },
                                {
                                    "SZOBA_ID": "71",
                                    "Foglalások (db)": "3"
                                },
                                {
                                    "SZOBA_ID": "72",
                                    "Foglalások (db)": "4"
                                },
                                {
                                    "SZOBA_ID": "73",
                                    "Foglalások (db)": "4"
                                },
                                {
                                    "SZOBA_ID": "74",
                                    "Foglalások (db)": "9"
                                },
                                {
                                    "SZOBA_ID": "75",
                                    "Foglalások (db)": "3"
                                },
                                {
                                    "SZOBA_ID": "76",
                                    "Foglalások (db)": "3"
                                },
                                {
                                    "SZOBA_ID": "77",
                                    "Foglalások (db)": "6"
                                },
                                {
                                    "SZOBA_ID": "78",
                                    "Foglalások (db)": "6"
                                },
                                {
                                    "SZOBA_ID": "79",
                                    "Foglalások (db)": "5"
                                },
                                {
                                    "SZOBA_ID": "80",
                                    "Foglalások (db)": "7"
                                },
                                {
                                    "SZOBA_ID": "81",
                                    "Foglalások (db)": "5"
                                },
                                {
                                    "SZOBA_ID": "82",
                                    "Foglalások (db)": "6"
                                },
                                {
                                    "SZOBA_ID": "83",
                                    "Foglalások (db)": "8"
                                },
                                {
                                    "SZOBA_ID": "84",
                                    "Foglalások (db)": "4"
                                },
                                {
                                    "SZOBA_ID": "85",
                                    "Foglalások (db)": "4"
                                },
                                {
                                    "SZOBA_ID": "86",
                                    "Foglalások (db)": "5"
                                },
                                {
                                    "SZOBA_ID": "87",
                                    "Foglalások (db)": "5"
                                },
                                {
                                    "SZOBA_ID": "88",
                                    "Foglalások (db)": "8"
                                },
                                {
                                    "SZOBA_ID": "89",
                                    "Foglalások (db)": "8"
                                },
                                {
                                    "SZOBA_ID": "90",
                                    "Foglalások (db)": "4"
                                },
                                {
                                    "SZOBA_ID": "91",
                                    "Foglalások (db)": "4"
                                },
                                {
                                    "SZOBA_ID": "92",
                                    "Foglalások (db)": "6"
                                },
                                {
                                    "SZOBA_ID": "93",
                                    "Foglalások (db)": "5"
                                },
                                {
                                    "SZOBA_ID": "94",
                                    "Foglalások (db)": "10"
                                },
                                {
                                    "SZOBA_ID": "95",
                                    "Foglalások (db)": "4"
                                },
                                {
                                    "SZOBA_ID": "96",
                                    "Foglalások (db)": "7"
                                },
                                {
                                    "SZOBA_ID": "97",
                                    "Foglalások (db)": "7"
                                },
                                {
                                    "SZOBA_ID": "98",
                                    "Foglalások (db)": "4"
                                },
                                {
                                    "SZOBA_ID": "99",
                                    "Foglalások (db)": "5"
                                },
                                {
                                    "SZOBA_ID": "100",
                                    "Foglalások (db)": "4"
                                },
                                {
                                    "SZOBA_ID": "101",
                                    "Foglalások (db)": "3"
                                },
                                {
                                    "SZOBA_ID": "102",
                                    "Foglalások (db)": "2"
                                },
                                {
                                    "SZOBA_ID": "103",
                                    "Foglalások (db)": "4"
                                },
                                {
                                    "SZOBA_ID": "104",
                                    "Foglalások (db)": "4"
                                },
                                {
                                    "SZOBA_ID": "105",
                                    "Foglalások (db)": "2"
                                },
                                {
                                    "SZOBA_ID": "106",
                                    "Foglalások (db)": "6"
                                },
                                {
                                    "SZOBA_ID": "107",
                                    "Foglalások (db)": "5"
                                },
                                {
                                    "SZOBA_ID": "108",
                                    "Foglalások (db)": "2"
                                },
                                {
                                    "SZOBA_ID": "109",
                                    "Foglalások (db)": "7"
                                },
                                {
                                    "SZOBA_ID": "110",
                                    "Foglalások (db)": "8"
                                },
                                {
                                    "SZOBA_ID": "111",
                                    "Foglalások (db)": "5"
                                },
                                {
                                    "SZOBA_ID": "112",
                                    "Foglalások (db)": "5"
                                },
                                {
                                    "SZOBA_ID": "113",
                                    "Foglalások (db)": "5"
                                },
                                {
                                    "SZOBA_ID": "114",
                                    "Foglalások (db)": "4"
                                },
                                {
                                    "SZOBA_ID": "115",
                                    "Foglalások (db)": "7"
                                },
                                {
                                    "SZOBA_ID": "116",
                                    "Foglalások (db)": "2"
                                },
                                {
                                    "SZOBA_ID": "117",
                                    "Foglalások (db)": "8"
                                },
                                {
                                    "SZOBA_ID": "118",
                                    "Foglalások (db)": "7"
                                },
                                {
                                    "SZOBA_ID": "119",
                                    "Foglalások (db)": "5"
                                },
                                {
                                    "SZOBA_ID": "120",
                                    "Foglalások (db)": "6"
                                },
                                {
                                    "SZOBA_ID": "121",
                                    "Foglalások (db)": "8"
                                },
                                {
                                    "SZOBA_ID": "122",
                                    "Foglalások (db)": "9"
                                },
                                {
                                    "SZOBA_ID": "123",
                                    "Foglalások (db)": "5"
                                },
                                {
                                    "SZOBA_ID": "124",
                                    "Foglalások (db)": "6"
                                },
                                {
                                    "SZOBA_ID": "125",
                                    "Foglalások (db)": "1"
                                },
                                {
                                    "SZOBA_ID": "126",
                                    "Foglalások (db)": "6"
                                },
                                {
                                    "SZOBA_ID": "127",
                                    "Foglalások (db)": "7"
                                },
                                {
                                    "SZOBA_ID": "128",
                                    "Foglalások (db)": "5"
                                },
                                {
                                    "SZOBA_ID": "129",
                                    "Foglalások (db)": "4"
                                },
                                {
                                    "SZOBA_ID": "130",
                                    "Foglalások (db)": "6"
                                },
                                {
                                    "SZOBA_ID": "131",
                                    "Foglalások (db)": "5"
                                },
                                {
                                    "SZOBA_ID": "132",
                                    "Foglalások (db)": "6"
                                },
                                {
                                    "SZOBA_ID": "133",
                                    "Foglalások (db)": "6"
                                },
                                {
                                    "SZOBA_ID": "134",
                                    "Foglalások (db)": "6"
                                },
                                {
                                    "SZOBA_ID": "135",
                                    "Foglalások (db)": "3"
                                },
                                {
                                    "SZOBA_ID": "136",
                                    "Foglalások (db)": "3"
                                },
                                {
                                    "SZOBA_ID": "137",
                                    "Foglalások (db)": "6"
                                },
                                {
                                    "SZOBA_ID": "138",
                                    "Foglalások (db)": "7"
                                },
                                {
                                    "SZOBA_ID": "139",
                                    "Foglalások (db)": "7"
                                },
                                {
                                    "SZOBA_ID": "140",
                                    "Foglalások (db)": "8"
                                },
                                {
                                    "SZOBA_ID": "141",
                                    "Foglalások (db)": "6"
                                },
                                {
                                    "SZOBA_ID": "142",
                                    "Foglalások (db)": "2"
                                },
                                {
                                    "SZOBA_ID": "143",
                                    "Foglalások (db)": "7"
                                },
                                {
                                    "SZOBA_ID": "144",
                                    "Foglalások (db)": "5"
                                },
                                {
                                    "SZOBA_ID": "145",
                                    "Foglalások (db)": "6"
                                },
                                {
                                    "SZOBA_ID": "146",
                                    "Foglalások (db)": "6"
                                },
                                {
                                    "SZOBA_ID": "147",
                                    "Foglalások (db)": "1"
                                },
                                {
                                    "SZOBA_ID": "148",
                                    "Foglalások (db)": "6"
                                },
                                {
                                    "SZOBA_ID": "149",
                                    "Foglalások (db)": "7"
                                },
                                {
                                    "SZOBA_ID": "150",
                                    "Foglalások (db)": "6"
                                },
                                {
                                    "SZOBA_ID": "151",
                                    "Foglalások (db)": "3"
                                },
                                {
                                    "SZOBA_ID": "152",
                                    "Foglalások (db)": "4"
                                },
                                {
                                    "SZOBA_ID": "153",
                                    "Foglalások (db)": "5"
                                },
                                {
                                    "SZOBA_ID": "154",
                                    "Foglalások (db)": "5"
                                },
                                {
                                    "SZOBA_ID": "155",
                                    "Foglalások (db)": "5"
                                },
                                {
                                    "SZOBA_ID": "156",
                                    "Foglalások (db)": "7"
                                },
                                {
                                    "SZOBA_ID": "157",
                                    "Foglalások (db)": "5"
                                },
                                {
                                    "SZOBA_ID": "158",
                                    "Foglalások (db)": "3"
                                },
                                {
                                    "SZOBA_ID": "159",
                                    "Foglalások (db)": "0"
                                },
                                {
                                    "SZOBA_ID": "160",
                                    "Foglalások (db)": "5"
                                },
                                {
                                    "SZOBA_ID": "161",
                                    "Foglalások (db)": "6"
                                },
                                {
                                    "SZOBA_ID": "162",
                                    "Foglalások (db)": "3"
                                },
                                {
                                    "SZOBA_ID": "163",
                                    "Foglalások (db)": "7"
                                },
                                {
                                    "SZOBA_ID": "164",
                                    "Foglalások (db)": "5"
                                },
                                {
                                    "SZOBA_ID": "165",
                                    "Foglalások (db)": "7"
                                },
                                {
                                    "SZOBA_ID": "166",
                                    "Foglalások (db)": "3"
                                },
                                {
                                    "SZOBA_ID": "167",
                                    "Foglalások (db)": "2"
                                },
                                {
                                    "SZOBA_ID": "168",
                                    "Foglalások (db)": "5"
                                },
                                {
                                    "SZOBA_ID": "169",
                                    "Foglalások (db)": "6"
                                },
                                {
                                    "SZOBA_ID": "170",
                                    "Foglalások (db)": "5"
                                },
                                {
                                    "SZOBA_ID": "171",
                                    "Foglalások (db)": "5"
                                },
                                {
                                    "SZOBA_ID": "172",
                                    "Foglalások (db)": "9"
                                },
                                {
                                    "SZOBA_ID": "173",
                                    "Foglalások (db)": "4"
                                },
                                {
                                    "SZOBA_ID": "174",
                                    "Foglalások (db)": "4"
                                },
                                {
                                    "SZOBA_ID": "175",
                                    "Foglalások (db)": "5"
                                },
                                {
                                    "SZOBA_ID": "176",
                                    "Foglalások (db)": "6"
                                },
                                {
                                    "SZOBA_ID": "177",
                                    "Foglalások (db)": "4"
                                },
                                {
                                    "SZOBA_ID": "178",
                                    "Foglalások (db)": "4"
                                },
                                {
                                    "SZOBA_ID": "179",
                                    "Foglalások (db)": "3"
                                },
                                {
                                    "SZOBA_ID": "180",
                                    "Foglalások (db)": "3"
                                },
                                {
                                    "SZOBA_ID": "181",
                                    "Foglalások (db)": "6"
                                },
                                {
                                    "SZOBA_ID": "182",
                                    "Foglalások (db)": "12"
                                },
                                {
                                    "SZOBA_ID": "183",
                                    "Foglalások (db)": "4"
                                },
                                {
                                    "SZOBA_ID": "184",
                                    "Foglalások (db)": "4"
                                },
                                {
                                    "SZOBA_ID": "185",
                                    "Foglalások (db)": "12"
                                },
                                {
                                    "SZOBA_ID": "186",
                                    "Foglalások (db)": "4"
                                },
                                {
                                    "SZOBA_ID": "187",
                                    "Foglalások (db)": "7"
                                },
                                {
                                    "SZOBA_ID": "188",
                                    "Foglalások (db)": "6"
                                },
                                {
                                    "SZOBA_ID": "189",
                                    "Foglalások (db)": "5"
                                },
                                {
                                    "SZOBA_ID": "190",
                                    "Foglalások (db)": "5"
                                },
                                {
                                    "SZOBA_ID": "191",
                                    "Foglalások (db)": "5"
                                },
                                {
                                    "SZOBA_ID": "192",
                                    "Foglalások (db)": "2"
                                },
                                {
                                    "SZOBA_ID": "193",
                                    "Foglalások (db)": "7"
                                },
                                {
                                    "SZOBA_ID": "194",
                                    "Foglalások (db)": "1"
                                },
                                {
                                    "SZOBA_ID": "195",
                                    "Foglalások (db)": "6"
                                },
                                {
                                    "SZOBA_ID": "196",
                                    "Foglalások (db)": "4"
                                },
                                {
                                    "SZOBA_ID": "197",
                                    "Foglalások (db)": "6"
                                },
                                {
                                    "SZOBA_ID": "198",
                                    "Foglalások (db)": "8"
                                },
                                {
                                    "SZOBA_ID": "199",
                                    "Foglalások (db)": "0"
                                },
                                {
                                    "SZOBA_ID": "200",
                                    "Foglalások (db)": "0"
                                },
                                {
                                    "SZOBA_ID": "201",
                                    "Foglalások (db)": "0"
                                },
                                {
                                    "SZOBA_ID": "202",
                                    "Foglalások (db)": "0"
                                },
                                {
                                    "SZOBA_ID": "203",
                                    "Foglalások (db)": "0"
                                },
                                {
                                    "SZOBA_ID": "204",
                                    "Foglalások (db)": "0"
                                },
                                {
                                    "SZOBA_ID": "205",
                                    "Foglalások (db)": "0"
                                },
                                {
                                    "SZOBA_ID": "206",
                                    "Foglalások (db)": "0"
                                },
                                {
                                    "SZOBA_ID": "207",
                                    "Foglalások (db)": "0"
                                },
                                {
                                    "SZOBA_ID": "208",
                                    "Foglalások (db)": "0"
                                },
                                {
                                    "SZOBA_ID": "209",
                                    "Foglalások (db)": "0"
                                },
                                {
                                    "SZOBA_ID": "210",
                                    "Foglalások (db)": "0"
                                },
                                {
                                    "SZOBA_ID": "211",
                                    "Foglalások (db)": "0"
                                },
                                {
                                    "SZOBA_ID": "212",
                                    "Foglalások (db)": "0"
                                },
                                {
                                    "SZOBA_ID": "213",
                                    "Foglalások (db)": "0"
                                },
                                {
                                    "SZOBA_ID": "214",
                                    "Foglalások (db)": "0"
                                },
                                {
                                    "SZOBA_ID": "215",
                                    "Foglalások (db)": "0"
                                },
                                {
                                    "SZOBA_ID": "216",
                                    "Foglalások (db)": "0"
                                },
                                {
                                    "SZOBA_ID": "217",
                                    "Foglalások (db)": "0"
                                },
                                {
                                    "SZOBA_ID": "218",
                                    "Foglalások (db)": "0"
                                },
                                {
                                    "SZOBA_ID": "219",
                                    "Foglalások (db)": "0"
                                },
                                {
                                    "SZOBA_ID": "220",
                                    "Foglalások (db)": "0"
                                },
                                {
                                    "SZOBA_ID": "221",
                                    "Foglalások (db)": "0"
                                },
                                {
                                    "SZOBA_ID": "222",
                                    "Foglalások (db)": "0"
                                },
                                {
                                    "SZOBA_ID": "223",
                                    "Foglalások (db)": "0"
                                },
                                {
                                    "SZOBA_ID": "224",
                                    "Foglalások (db)": "0"
                                },
                                {
                                    "SZOBA_ID": "225",
                                    "Foglalások (db)": "0"
                                },
                                {
                                    "SZOBA_ID": "226",
                                    "Foglalások (db)": "0"
                                },
                                {
                                    "SZOBA_ID": "227",
                                    "Foglalások (db)": "0"
                                },
                                {
                                    "SZOBA_ID": "228",
                                    "Foglalások (db)": "0"
                                },
                                {
                                    "SZOBA_ID": "229",
                                    "Foglalások (db)": "0"
                                },
                                {
                                    "SZOBA_ID": "230",
                                    "Foglalások (db)": "0"
                                },
                                {
                                    "SZOBA_ID": "231",
                                    "Foglalások (db)": "0"
                                },
                                {
                                    "SZOBA_ID": "232",
                                    "Foglalások (db)": "0"
                                },
                                {
                                    "SZOBA_ID": "233",
                                    "Foglalások (db)": "0"
                                },
                                {
                                    "SZOBA_ID": "234",
                                    "Foglalások (db)": "0"
                                },
                                {
                                    "SZOBA_ID": "235",
                                    "Foglalások (db)": "0"
                                },
                                {
                                    "SZOBA_ID": "236",
                                    "Foglalások (db)": "0"
                                },
                                {
                                    "SZOBA_ID": "237",
                                    "Foglalások (db)": "0"
                                },
                                {
                                    "SZOBA_ID": "238",
                                    "Foglalások (db)": "0"
                                },
                                {
                                    "SZOBA_ID": "239",
                                    "Foglalások (db)": "0"
                                },
                                {
                                    "SZOBA_ID": "240",
                                    "Foglalások (db)": "0"
                                },
                                {
                                    "SZOBA_ID": "241",
                                    "Foglalások (db)": "0"
                                },
                                {
                                    "SZOBA_ID": "242",
                                    "Foglalások (db)": "0"
                                },
                                {
                                    "SZOBA_ID": "243",
                                    "Foglalások (db)": "0"
                                },
                                {
                                    "SZOBA_ID": "244",
                                    "Foglalások (db)": "0"
                                },
                                {
                                    "SZOBA_ID": "245",
                                    "Foglalások (db)": "0"
                                },
                                {
                                    "SZOBA_ID": "246",
                                    "Foglalások (db)": "0"
                                },
                                {
                                    "SZOBA_ID": "247",
                                    "Foglalások (db)": "0"
                                },
                                {
                                    "SZOBA_ID": "248",
                                    "Foglalások (db)": "0"
                                },
                                {
                                    "SZOBA_ID": "249",
                                    "Foglalások (db)": "0"
                                },
                                {
                                    "SZOBA_ID": "250",
                                    "Foglalások (db)": "0"
                                },
                                {
                                    "SZOBA_ID": "251",
                                    "Foglalások (db)": "0"
                                },
                                {
                                    "SZOBA_ID": "252",
                                    "Foglalások (db)": "0"
                                },
                                {
                                    "SZOBA_ID": "253",
                                    "Foglalások (db)": "0"
                                },
                                {
                                    "SZOBA_ID": "254",
                                    "Foglalások (db)": "0"
                                },
                                {
                                    "SZOBA_ID": "255",
                                    "Foglalások (db)": "0"
                                },
                                {
                                    "SZOBA_ID": "256",
                                    "Foglalások (db)": "0"
                                },
                                {
                                    "SZOBA_ID": "257",
                                    "Foglalások (db)": "0"
                                },
                                {
                                    "SZOBA_ID": "258",
                                    "Foglalások (db)": "0"
                                },
                                {
                                    "SZOBA_ID": "259",
                                    "Foglalások (db)": "0"
                                },
                                {
                                    "SZOBA_ID": "260",
                                    "Foglalások (db)": "0"
                                },
                                {
                                    "SZOBA_ID": "261",
                                    "Foglalások (db)": "0"
                                },
                                {
                                    "SZOBA_ID": "262",
                                    "Foglalások (db)": "0"
                                },
                                {
                                    "SZOBA_ID": "263",
                                    "Foglalások (db)": "0"
                                },
                                {
                                    "SZOBA_ID": "264",
                                    "Foglalások (db)": "0"
                                },
                                {
                                    "SZOBA_ID": "265",
                                    "Foglalások (db)": "0"
                                },
                                {
                                    "SZOBA_ID": "266",
                                    "Foglalások (db)": "0"
                                },
                                {
                                    "SZOBA_ID": "267",
                                    "Foglalások (db)": "0"
                                },
                                {
                                    "SZOBA_ID": "268",
                                    "Foglalások (db)": "0"
                                },
                                {
                                    "SZOBA_ID": "269",
                                    "Foglalások (db)": "0"
                                },
                                {
                                    "SZOBA_ID": "270",
                                    "Foglalások (db)": "0"
                                },
                                {
                                    "SZOBA_ID": "271",
                                    "Foglalások (db)": "0"
                                },
                                {
                                    "SZOBA_ID": "272",
                                    "Foglalások (db)": "0"
                                },
                                {
                                    "SZOBA_ID": "273",
                                    "Foglalások (db)": "0"
                                },
                                {
                                    "SZOBA_ID": "274",
                                    "Foglalások (db)": "0"
                                },
                                {
                                    "SZOBA_ID": "275",
                                    "Foglalások (db)": "0"
                                },
                                {
                                    "SZOBA_ID": "276",
                                    "Foglalások (db)": "0"
                                },
                                {
                                    "SZOBA_ID": "277",
                                    "Foglalások (db)": "0"
                                },
                                {
                                    "SZOBA_ID": "278",
                                    "Foglalások (db)": "0"
                                },
                                {
                                    "SZOBA_ID": "279",
                                    "Foglalások (db)": "0"
                                },
                                {
                                    "SZOBA_ID": "280",
                                    "Foglalások (db)": "0"
                                },
                                {
                                    "SZOBA_ID": "281",
                                    "Foglalások (db)": "0"
                                },
                                {
                                    "SZOBA_ID": "282",
                                    "Foglalások (db)": "0"
                                },
                                {
                                    "SZOBA_ID": "283",
                                    "Foglalások (db)": "0"
                                },
                                {
                                    "SZOBA_ID": "284",
                                    "Foglalások (db)": "0"
                                },
                                {
                                    "SZOBA_ID": "285",
                                    "Foglalások (db)": "0"
                                },
                                {
                                    "SZOBA_ID": "286",
                                    "Foglalások (db)": "0"
                                },
                                {
                                    "SZOBA_ID": "287",
                                    "Foglalások (db)": "0"
                                },
                                {
                                    "SZOBA_ID": "288",
                                    "Foglalások (db)": "0"
                                },
                                {
                                    "SZOBA_ID": "289",
                                    "Foglalások (db)": "0"
                                },
                                {
                                    "SZOBA_ID": "290",
                                    "Foglalások (db)": "0"
                                },
                                {
                                    "SZOBA_ID": "291",
                                    "Foglalások (db)": "0"
                                },
                                {
                                    "SZOBA_ID": "292",
                                    "Foglalások (db)": "0"
                                },
                                {
                                    "SZOBA_ID": "293",
                                    "Foglalások (db)": "0"
                                },
                                {
                                    "SZOBA_ID": "294",
                                    "Foglalások (db)": "0"
                                }
                            ]
                        },
                        "text/html": [
                            "<table>",
                            "<tr><th>SZOBA_ID</th><th>Foglalások (db)</th></tr>",
                            "<tr><td>1</td><td>8</td></tr>",
                            "<tr><td>2</td><td>4</td></tr>",
                            "<tr><td>3</td><td>8</td></tr>",
                            "<tr><td>4</td><td>6</td></tr>",
                            "<tr><td>5</td><td>4</td></tr>",
                            "<tr><td>6</td><td>6</td></tr>",
                            "<tr><td>7</td><td>6</td></tr>",
                            "<tr><td>8</td><td>5</td></tr>",
                            "<tr><td>9</td><td>6</td></tr>",
                            "<tr><td>10</td><td>4</td></tr>",
                            "<tr><td>11</td><td>4</td></tr>",
                            "<tr><td>12</td><td>9</td></tr>",
                            "<tr><td>13</td><td>4</td></tr>",
                            "<tr><td>14</td><td>3</td></tr>",
                            "<tr><td>15</td><td>6</td></tr>",
                            "<tr><td>16</td><td>5</td></tr>",
                            "<tr><td>17</td><td>6</td></tr>",
                            "<tr><td>18</td><td>6</td></tr>",
                            "<tr><td>19</td><td>6</td></tr>",
                            "<tr><td>20</td><td>5</td></tr>",
                            "<tr><td>21</td><td>4</td></tr>",
                            "<tr><td>22</td><td>6</td></tr>",
                            "<tr><td>23</td><td>3</td></tr>",
                            "<tr><td>24</td><td>3</td></tr>",
                            "<tr><td>25</td><td>2</td></tr>",
                            "<tr><td>26</td><td>2</td></tr>",
                            "<tr><td>27</td><td>7</td></tr>",
                            "<tr><td>28</td><td>6</td></tr>",
                            "<tr><td>29</td><td>6</td></tr>",
                            "<tr><td>30</td><td>3</td></tr>",
                            "<tr><td>31</td><td>3</td></tr>",
                            "<tr><td>32</td><td>1</td></tr>",
                            "<tr><td>33</td><td>6</td></tr>",
                            "<tr><td>34</td><td>4</td></tr>",
                            "<tr><td>35</td><td>9</td></tr>",
                            "<tr><td>36</td><td>6</td></tr>",
                            "<tr><td>37</td><td>3</td></tr>",
                            "<tr><td>38</td><td>8</td></tr>",
                            "<tr><td>39</td><td>7</td></tr>",
                            "<tr><td>40</td><td>4</td></tr>",
                            "<tr><td>41</td><td>2</td></tr>",
                            "<tr><td>42</td><td>6</td></tr>",
                            "<tr><td>43</td><td>8</td></tr>",
                            "<tr><td>44</td><td>6</td></tr>",
                            "<tr><td>45</td><td>5</td></tr>",
                            "<tr><td>46</td><td>4</td></tr>",
                            "<tr><td>47</td><td>2</td></tr>",
                            "<tr><td>48</td><td>9</td></tr>",
                            "<tr><td>49</td><td>7</td></tr>",
                            "<tr><td>50</td><td>4</td></tr>",
                            "<tr><td>51</td><td>5</td></tr>",
                            "<tr><td>52</td><td>5</td></tr>",
                            "<tr><td>53</td><td>2</td></tr>",
                            "<tr><td>54</td><td>6</td></tr>",
                            "<tr><td>55</td><td>8</td></tr>",
                            "<tr><td>56</td><td>2</td></tr>",
                            "<tr><td>57</td><td>4</td></tr>",
                            "<tr><td>58</td><td>13</td></tr>",
                            "<tr><td>59</td><td>7</td></tr>",
                            "<tr><td>60</td><td>1</td></tr>",
                            "<tr><td>61</td><td>5</td></tr>",
                            "<tr><td>62</td><td>5</td></tr>",
                            "<tr><td>63</td><td>4</td></tr>",
                            "<tr><td>64</td><td>6</td></tr>",
                            "<tr><td>65</td><td>1</td></tr>",
                            "<tr><td>66</td><td>4</td></tr>",
                            "<tr><td>67</td><td>6</td></tr>",
                            "<tr><td>68</td><td>3</td></tr>",
                            "<tr><td>69</td><td>4</td></tr>",
                            "<tr><td>70</td><td>11</td></tr>",
                            "<tr><td>71</td><td>3</td></tr>",
                            "<tr><td>72</td><td>4</td></tr>",
                            "<tr><td>73</td><td>4</td></tr>",
                            "<tr><td>74</td><td>9</td></tr>",
                            "<tr><td>75</td><td>3</td></tr>",
                            "<tr><td>76</td><td>3</td></tr>",
                            "<tr><td>77</td><td>6</td></tr>",
                            "<tr><td>78</td><td>6</td></tr>",
                            "<tr><td>79</td><td>5</td></tr>",
                            "<tr><td>80</td><td>7</td></tr>",
                            "<tr><td>81</td><td>5</td></tr>",
                            "<tr><td>82</td><td>6</td></tr>",
                            "<tr><td>83</td><td>8</td></tr>",
                            "<tr><td>84</td><td>4</td></tr>",
                            "<tr><td>85</td><td>4</td></tr>",
                            "<tr><td>86</td><td>5</td></tr>",
                            "<tr><td>87</td><td>5</td></tr>",
                            "<tr><td>88</td><td>8</td></tr>",
                            "<tr><td>89</td><td>8</td></tr>",
                            "<tr><td>90</td><td>4</td></tr>",
                            "<tr><td>91</td><td>4</td></tr>",
                            "<tr><td>92</td><td>6</td></tr>",
                            "<tr><td>93</td><td>5</td></tr>",
                            "<tr><td>94</td><td>10</td></tr>",
                            "<tr><td>95</td><td>4</td></tr>",
                            "<tr><td>96</td><td>7</td></tr>",
                            "<tr><td>97</td><td>7</td></tr>",
                            "<tr><td>98</td><td>4</td></tr>",
                            "<tr><td>99</td><td>5</td></tr>",
                            "<tr><td>100</td><td>4</td></tr>",
                            "<tr><td>101</td><td>3</td></tr>",
                            "<tr><td>102</td><td>2</td></tr>",
                            "<tr><td>103</td><td>4</td></tr>",
                            "<tr><td>104</td><td>4</td></tr>",
                            "<tr><td>105</td><td>2</td></tr>",
                            "<tr><td>106</td><td>6</td></tr>",
                            "<tr><td>107</td><td>5</td></tr>",
                            "<tr><td>108</td><td>2</td></tr>",
                            "<tr><td>109</td><td>7</td></tr>",
                            "<tr><td>110</td><td>8</td></tr>",
                            "<tr><td>111</td><td>5</td></tr>",
                            "<tr><td>112</td><td>5</td></tr>",
                            "<tr><td>113</td><td>5</td></tr>",
                            "<tr><td>114</td><td>4</td></tr>",
                            "<tr><td>115</td><td>7</td></tr>",
                            "<tr><td>116</td><td>2</td></tr>",
                            "<tr><td>117</td><td>8</td></tr>",
                            "<tr><td>118</td><td>7</td></tr>",
                            "<tr><td>119</td><td>5</td></tr>",
                            "<tr><td>120</td><td>6</td></tr>",
                            "<tr><td>121</td><td>8</td></tr>",
                            "<tr><td>122</td><td>9</td></tr>",
                            "<tr><td>123</td><td>5</td></tr>",
                            "<tr><td>124</td><td>6</td></tr>",
                            "<tr><td>125</td><td>1</td></tr>",
                            "<tr><td>126</td><td>6</td></tr>",
                            "<tr><td>127</td><td>7</td></tr>",
                            "<tr><td>128</td><td>5</td></tr>",
                            "<tr><td>129</td><td>4</td></tr>",
                            "<tr><td>130</td><td>6</td></tr>",
                            "<tr><td>131</td><td>5</td></tr>",
                            "<tr><td>132</td><td>6</td></tr>",
                            "<tr><td>133</td><td>6</td></tr>",
                            "<tr><td>134</td><td>6</td></tr>",
                            "<tr><td>135</td><td>3</td></tr>",
                            "<tr><td>136</td><td>3</td></tr>",
                            "<tr><td>137</td><td>6</td></tr>",
                            "<tr><td>138</td><td>7</td></tr>",
                            "<tr><td>139</td><td>7</td></tr>",
                            "<tr><td>140</td><td>8</td></tr>",
                            "<tr><td>141</td><td>6</td></tr>",
                            "<tr><td>142</td><td>2</td></tr>",
                            "<tr><td>143</td><td>7</td></tr>",
                            "<tr><td>144</td><td>5</td></tr>",
                            "<tr><td>145</td><td>6</td></tr>",
                            "<tr><td>146</td><td>6</td></tr>",
                            "<tr><td>147</td><td>1</td></tr>",
                            "<tr><td>148</td><td>6</td></tr>",
                            "<tr><td>149</td><td>7</td></tr>",
                            "<tr><td>150</td><td>6</td></tr>",
                            "<tr><td>151</td><td>3</td></tr>",
                            "<tr><td>152</td><td>4</td></tr>",
                            "<tr><td>153</td><td>5</td></tr>",
                            "<tr><td>154</td><td>5</td></tr>",
                            "<tr><td>155</td><td>5</td></tr>",
                            "<tr><td>156</td><td>7</td></tr>",
                            "<tr><td>157</td><td>5</td></tr>",
                            "<tr><td>158</td><td>3</td></tr>",
                            "<tr><td>159</td><td>0</td></tr>",
                            "<tr><td>160</td><td>5</td></tr>",
                            "<tr><td>161</td><td>6</td></tr>",
                            "<tr><td>162</td><td>3</td></tr>",
                            "<tr><td>163</td><td>7</td></tr>",
                            "<tr><td>164</td><td>5</td></tr>",
                            "<tr><td>165</td><td>7</td></tr>",
                            "<tr><td>166</td><td>3</td></tr>",
                            "<tr><td>167</td><td>2</td></tr>",
                            "<tr><td>168</td><td>5</td></tr>",
                            "<tr><td>169</td><td>6</td></tr>",
                            "<tr><td>170</td><td>5</td></tr>",
                            "<tr><td>171</td><td>5</td></tr>",
                            "<tr><td>172</td><td>9</td></tr>",
                            "<tr><td>173</td><td>4</td></tr>",
                            "<tr><td>174</td><td>4</td></tr>",
                            "<tr><td>175</td><td>5</td></tr>",
                            "<tr><td>176</td><td>6</td></tr>",
                            "<tr><td>177</td><td>4</td></tr>",
                            "<tr><td>178</td><td>4</td></tr>",
                            "<tr><td>179</td><td>3</td></tr>",
                            "<tr><td>180</td><td>3</td></tr>",
                            "<tr><td>181</td><td>6</td></tr>",
                            "<tr><td>182</td><td>12</td></tr>",
                            "<tr><td>183</td><td>4</td></tr>",
                            "<tr><td>184</td><td>4</td></tr>",
                            "<tr><td>185</td><td>12</td></tr>",
                            "<tr><td>186</td><td>4</td></tr>",
                            "<tr><td>187</td><td>7</td></tr>",
                            "<tr><td>188</td><td>6</td></tr>",
                            "<tr><td>189</td><td>5</td></tr>",
                            "<tr><td>190</td><td>5</td></tr>",
                            "<tr><td>191</td><td>5</td></tr>",
                            "<tr><td>192</td><td>2</td></tr>",
                            "<tr><td>193</td><td>7</td></tr>",
                            "<tr><td>194</td><td>1</td></tr>",
                            "<tr><td>195</td><td>6</td></tr>",
                            "<tr><td>196</td><td>4</td></tr>",
                            "<tr><td>197</td><td>6</td></tr>",
                            "<tr><td>198</td><td>8</td></tr>",
                            "<tr><td>199</td><td>0</td></tr>",
                            "<tr><td>200</td><td>0</td></tr>",
                            "<tr><td>201</td><td>0</td></tr>",
                            "<tr><td>202</td><td>0</td></tr>",
                            "<tr><td>203</td><td>0</td></tr>",
                            "<tr><td>204</td><td>0</td></tr>",
                            "<tr><td>205</td><td>0</td></tr>",
                            "<tr><td>206</td><td>0</td></tr>",
                            "<tr><td>207</td><td>0</td></tr>",
                            "<tr><td>208</td><td>0</td></tr>",
                            "<tr><td>209</td><td>0</td></tr>",
                            "<tr><td>210</td><td>0</td></tr>",
                            "<tr><td>211</td><td>0</td></tr>",
                            "<tr><td>212</td><td>0</td></tr>",
                            "<tr><td>213</td><td>0</td></tr>",
                            "<tr><td>214</td><td>0</td></tr>",
                            "<tr><td>215</td><td>0</td></tr>",
                            "<tr><td>216</td><td>0</td></tr>",
                            "<tr><td>217</td><td>0</td></tr>",
                            "<tr><td>218</td><td>0</td></tr>",
                            "<tr><td>219</td><td>0</td></tr>",
                            "<tr><td>220</td><td>0</td></tr>",
                            "<tr><td>221</td><td>0</td></tr>",
                            "<tr><td>222</td><td>0</td></tr>",
                            "<tr><td>223</td><td>0</td></tr>",
                            "<tr><td>224</td><td>0</td></tr>",
                            "<tr><td>225</td><td>0</td></tr>",
                            "<tr><td>226</td><td>0</td></tr>",
                            "<tr><td>227</td><td>0</td></tr>",
                            "<tr><td>228</td><td>0</td></tr>",
                            "<tr><td>229</td><td>0</td></tr>",
                            "<tr><td>230</td><td>0</td></tr>",
                            "<tr><td>231</td><td>0</td></tr>",
                            "<tr><td>232</td><td>0</td></tr>",
                            "<tr><td>233</td><td>0</td></tr>",
                            "<tr><td>234</td><td>0</td></tr>",
                            "<tr><td>235</td><td>0</td></tr>",
                            "<tr><td>236</td><td>0</td></tr>",
                            "<tr><td>237</td><td>0</td></tr>",
                            "<tr><td>238</td><td>0</td></tr>",
                            "<tr><td>239</td><td>0</td></tr>",
                            "<tr><td>240</td><td>0</td></tr>",
                            "<tr><td>241</td><td>0</td></tr>",
                            "<tr><td>242</td><td>0</td></tr>",
                            "<tr><td>243</td><td>0</td></tr>",
                            "<tr><td>244</td><td>0</td></tr>",
                            "<tr><td>245</td><td>0</td></tr>",
                            "<tr><td>246</td><td>0</td></tr>",
                            "<tr><td>247</td><td>0</td></tr>",
                            "<tr><td>248</td><td>0</td></tr>",
                            "<tr><td>249</td><td>0</td></tr>",
                            "<tr><td>250</td><td>0</td></tr>",
                            "<tr><td>251</td><td>0</td></tr>",
                            "<tr><td>252</td><td>0</td></tr>",
                            "<tr><td>253</td><td>0</td></tr>",
                            "<tr><td>254</td><td>0</td></tr>",
                            "<tr><td>255</td><td>0</td></tr>",
                            "<tr><td>256</td><td>0</td></tr>",
                            "<tr><td>257</td><td>0</td></tr>",
                            "<tr><td>258</td><td>0</td></tr>",
                            "<tr><td>259</td><td>0</td></tr>",
                            "<tr><td>260</td><td>0</td></tr>",
                            "<tr><td>261</td><td>0</td></tr>",
                            "<tr><td>262</td><td>0</td></tr>",
                            "<tr><td>263</td><td>0</td></tr>",
                            "<tr><td>264</td><td>0</td></tr>",
                            "<tr><td>265</td><td>0</td></tr>",
                            "<tr><td>266</td><td>0</td></tr>",
                            "<tr><td>267</td><td>0</td></tr>",
                            "<tr><td>268</td><td>0</td></tr>",
                            "<tr><td>269</td><td>0</td></tr>",
                            "<tr><td>270</td><td>0</td></tr>",
                            "<tr><td>271</td><td>0</td></tr>",
                            "<tr><td>272</td><td>0</td></tr>",
                            "<tr><td>273</td><td>0</td></tr>",
                            "<tr><td>274</td><td>0</td></tr>",
                            "<tr><td>275</td><td>0</td></tr>",
                            "<tr><td>276</td><td>0</td></tr>",
                            "<tr><td>277</td><td>0</td></tr>",
                            "<tr><td>278</td><td>0</td></tr>",
                            "<tr><td>279</td><td>0</td></tr>",
                            "<tr><td>280</td><td>0</td></tr>",
                            "<tr><td>281</td><td>0</td></tr>",
                            "<tr><td>282</td><td>0</td></tr>",
                            "<tr><td>283</td><td>0</td></tr>",
                            "<tr><td>284</td><td>0</td></tr>",
                            "<tr><td>285</td><td>0</td></tr>",
                            "<tr><td>286</td><td>0</td></tr>",
                            "<tr><td>287</td><td>0</td></tr>",
                            "<tr><td>288</td><td>0</td></tr>",
                            "<tr><td>289</td><td>0</td></tr>",
                            "<tr><td>290</td><td>0</td></tr>",
                            "<tr><td>291</td><td>0</td></tr>",
                            "<tr><td>292</td><td>0</td></tr>",
                            "<tr><td>293</td><td>0</td></tr>",
                            "<tr><td>294</td><td>0</td></tr>",
                            "</table>"
                        ]
                    }
                }
            ],
            "execution_count": 23
        },
        {
            "cell_type": "markdown",
            "source": [
                "Listázzuk azon vendégek adatait, akik a legtöbb férőhelyes szobát (vagy szobákat) már lefoglalták!\n",
                "\n",
                "- Csak klímás szoba jöhet számításba"
            ],
            "metadata": {
                "language": "sql",
                "azdata_cell_guid": "a348a5d7-196d-4c3f-8bd9-842e359d5b0c"
            },
            "attachments": {}
        },
        {
            "cell_type": "code",
            "source": [
                "SELECT v.*\r\n",
                "FROM Foglalas f \r\n",
                "    JOIN Szoba sz ON f.SZOBA_FK = sz.SZOBA_ID\r\n",
                "    JOIN Vendeg v ON v.USERNEV = f.UGYFEL_FK\r\n",
                "WHERE sz.KLIMAS = 'i'\r\n",
                "AND sz.FEROHELY = (\r\n",
                "    SELECT MAX(szmax.FEROHELY)\r\n",
                "    FROM SZOBA szmax\r\n",
                "    WHERE szmax.KLIMAS = 'i'\r\n",
                ");"
            ],
            "metadata": {
                "language": "sql",
                "azdata_cell_guid": "cbcfad13-0418-46da-b857-8d2587d97de0"
            },
            "outputs": [
                {
                    "output_type": "display_data",
                    "data": {
                        "text/html": "(3 rows affected)"
                    },
                    "metadata": {}
                },
                {
                    "output_type": "display_data",
                    "data": {
                        "text/html": "Total execution time: 00:00:00.008"
                    },
                    "metadata": {}
                },
                {
                    "output_type": "execute_result",
                    "metadata": {},
                    "execution_count": 24,
                    "data": {
                        "application/vnd.dataresource+json": {
                            "schema": {
                                "fields": [
                                    {
                                        "name": "USERNEV"
                                    },
                                    {
                                        "name": "NEV"
                                    },
                                    {
                                        "name": "EMAIL"
                                    },
                                    {
                                        "name": "SZAML_CIM"
                                    },
                                    {
                                        "name": "SZUL_DAT"
                                    }
                                ]
                            },
                            "data": [
                                {
                                    "USERNEV": "JOZSEFG",
                                    "NEV": "Gyuris József",
                                    "EMAIL": "józsef.gyuris@mail.hu",
                                    "SZAML_CIM": "2660 Balassagyarmat Petőfi utca 1/2.",
                                    "SZUL_DAT": "1975-05-26"
                                },
                                {
                                    "USERNEV": "PETERB",
                                    "NEV": "Berendi Péter",
                                    "EMAIL": "péter.berendi@mail.hu",
                                    "SZAML_CIM": "3980 Sátoraljaújhely Vasút utca 4/10.",
                                    "SZUL_DAT": "1969-01-01"
                                },
                                {
                                    "USERNEV": "tunde",
                                    "NEV": "Turcsik Tünde",
                                    "EMAIL": "tunde@gmail.com",
                                    "SZAML_CIM": "7130 Tolna Fő út 122.",
                                    "SZUL_DAT": "1974-02-12"
                                }
                            ]
                        },
                        "text/html": [
                            "<table>",
                            "<tr><th>USERNEV</th><th>NEV</th><th>EMAIL</th><th>SZAML_CIM</th><th>SZUL_DAT</th></tr>",
                            "<tr><td>JOZSEFG</td><td>Gyuris József</td><td>józsef.gyuris@mail.hu</td><td>2660 Balassagyarmat Petőfi utca 1/2.</td><td>1975-05-26</td></tr>",
                            "<tr><td>PETERB</td><td>Berendi Péter</td><td>péter.berendi@mail.hu</td><td>3980 Sátoraljaújhely Vasút utca 4/10.</td><td>1969-01-01</td></tr>",
                            "<tr><td>tunde</td><td>Turcsik Tünde</td><td>tunde@gmail.com</td><td>7130 Tolna Fő út 122.</td><td>1974-02-12</td></tr>",
                            "</table>"
                        ]
                    }
                }
            ],
            "execution_count": 24
        },
        {
            "cell_type": "markdown",
            "source": [
                "Listázzuk a vendégek azonosítóját, nevét és születési dátumát!\n",
                "\n",
                "- Vegyünk fel két új oszlopot, amelyben a vendég legelső, illetve legutolsó foglalásának dátuma szerepel\n",
                "- A foglalás dátumánál a METTOL oszlopot használjuk"
            ],
            "metadata": {
                "language": "sql",
                "azdata_cell_guid": "fab06076-de57-43c6-9be5-e1acc0201b80"
            },
            "attachments": {}
        },
        {
            "cell_type": "code",
            "source": [
                "SELECT v.USERNEV,\r\n",
                "        v.NEV,\r\n",
                "        v.SZUL_DAT,\r\n",
                "        MIN(f.METTOL) AS \"Első\",\r\n",
                "        MAX(f.METTOL) AS \"Utolső\"\r\n",
                "FROM vendeg v JOIN foglalas f ON v.USERNEV = f.UGYFEL_FK\r\n",
                "GROUP BY v.USERNEV, v.NEV, v.SZUL_DAT\r\n",
                "ORDER BY v.USERNEV"
            ],
            "metadata": {
                "language": "sql",
                "azdata_cell_guid": "7521d116-8582-4bf3-9d84-4dbb3f0d1a81"
            },
            "outputs": [
                {
                    "output_type": "display_data",
                    "data": {
                        "text/html": "(195 rows affected)"
                    },
                    "metadata": {}
                },
                {
                    "output_type": "display_data",
                    "data": {
                        "text/html": "Total execution time: 00:00:00.017"
                    },
                    "metadata": {}
                },
                {
                    "output_type": "execute_result",
                    "metadata": {},
                    "execution_count": 14,
                    "data": {
                        "application/vnd.dataresource+json": {
                            "schema": {
                                "fields": [
                                    {
                                        "name": "USERNEV"
                                    },
                                    {
                                        "name": "NEV"
                                    },
                                    {
                                        "name": "SZUL_DAT"
                                    },
                                    {
                                        "name": "Első"
                                    },
                                    {
                                        "name": "Utolső"
                                    }
                                ]
                            },
                            "data": [
                                {
                                    "USERNEV": "adam1",
                                    "NEV": "Kiss Ádám",
                                    "SZUL_DAT": "1991-12-28",
                                    "Első": "2016-05-28",
                                    "Utolső": "2016-10-19"
                                },
                                {
                                    "USERNEV": "adam3",
                                    "NEV": "Barkóci Ádám",
                                    "SZUL_DAT": "1970-06-07",
                                    "Első": "2016-09-12",
                                    "Utolső": "2017-02-06"
                                },
                                {
                                    "USERNEV": "adam4",
                                    "NEV": "Bieniek Ádám",
                                    "SZUL_DAT": "1976-08-01",
                                    "Első": "2016-08-28",
                                    "Utolső": "2017-02-23"
                                },
                                {
                                    "USERNEV": "agnes",
                                    "NEV": "Lengyel Ágnes",
                                    "SZUL_DAT": "1979-12-10",
                                    "Első": "2016-05-09",
                                    "Utolső": "2016-11-07"
                                },
                                {
                                    "USERNEV": "agnes3",
                                    "NEV": "Hartyánszky Ágnes",
                                    "SZUL_DAT": "1967-04-11",
                                    "Első": "2016-08-04",
                                    "Utolső": "2017-02-16"
                                },
                                {
                                    "USERNEV": "AGNESH",
                                    "NEV": "Horváth Ágnes",
                                    "SZUL_DAT": "1981-12-24",
                                    "Első": "2016-04-10",
                                    "Utolső": "2017-01-16"
                                },
                                {
                                    "USERNEV": "AGNESK",
                                    "NEV": "Kovács Ágnes",
                                    "SZUL_DAT": "1988-10-02",
                                    "Első": "2016-07-29",
                                    "Utolső": "2016-12-17"
                                },
                                {
                                    "USERNEV": "akos",
                                    "NEV": "Bíró Ákos",
                                    "SZUL_DAT": "1982-04-24",
                                    "Első": "2016-05-18",
                                    "Utolső": "2016-12-29"
                                },
                                {
                                    "USERNEV": "aladar",
                                    "NEV": "Dunai Aladár",
                                    "SZUL_DAT": "1980-11-01",
                                    "Első": "2016-05-17",
                                    "Utolső": "2016-11-22"
                                },
                                {
                                    "USERNEV": "alexandra",
                                    "NEV": "Bagóczki Alexandra",
                                    "SZUL_DAT": "1992-03-25",
                                    "Első": "2016-05-21",
                                    "Utolső": "2017-01-19"
                                },
                                {
                                    "USERNEV": "andi",
                                    "NEV": "Maródi Andrea",
                                    "SZUL_DAT": "1968-05-07",
                                    "Első": "2016-05-08",
                                    "Utolső": "2017-01-13"
                                },
                                {
                                    "USERNEV": "andras2",
                                    "NEV": "Tóth András",
                                    "SZUL_DAT": "1997-10-31",
                                    "Első": "2016-05-30",
                                    "Utolső": "2017-02-08"
                                },
                                {
                                    "USERNEV": "andras21",
                                    "NEV": "Molnár András",
                                    "SZUL_DAT": "1977-11-16",
                                    "Első": "2016-06-21",
                                    "Utolső": "2017-01-28"
                                },
                                {
                                    "USERNEV": "andras3",
                                    "NEV": "Vígh András",
                                    "SZUL_DAT": "1971-04-02",
                                    "Első": "2016-05-01",
                                    "Utolső": "2017-02-02"
                                },
                                {
                                    "USERNEV": "andras4",
                                    "NEV": "Back András",
                                    "SZUL_DAT": "1984-04-07",
                                    "Első": "2016-09-17",
                                    "Utolső": "2017-01-09"
                                },
                                {
                                    "USERNEV": "andras41",
                                    "NEV": "Komjáti András",
                                    "SZUL_DAT": "1997-10-25",
                                    "Első": "2016-05-14",
                                    "Utolső": "2016-11-23"
                                },
                                {
                                    "USERNEV": "ANDRASE",
                                    "NEV": "Erdei András",
                                    "SZUL_DAT": "1997-05-29",
                                    "Első": "2016-04-24",
                                    "Utolső": "2016-11-29"
                                },
                                {
                                    "USERNEV": "ANDRASN",
                                    "NEV": "Nagy András",
                                    "SZUL_DAT": "1980-09-05",
                                    "Első": "2016-11-25",
                                    "Utolső": "2016-11-25"
                                },
                                {
                                    "USERNEV": "andrea",
                                    "NEV": "Kiss Andrea",
                                    "SZUL_DAT": "1993-03-25",
                                    "Első": "2016-07-27",
                                    "Utolső": "2017-02-09"
                                },
                                {
                                    "USERNEV": "andrea3",
                                    "NEV": "Szomor Andrea",
                                    "SZUL_DAT": "1996-05-10",
                                    "Első": "2016-11-19",
                                    "Utolső": "2016-11-19"
                                },
                                {
                                    "USERNEV": "andrea4",
                                    "NEV": "Neizer Andrea",
                                    "SZUL_DAT": "1981-05-17",
                                    "Első": "2016-05-27",
                                    "Utolső": "2017-01-22"
                                },
                                {
                                    "USERNEV": "ANDREAT",
                                    "NEV": "Tornyos Andrea",
                                    "SZUL_DAT": "1986-11-14",
                                    "Első": "2016-07-27",
                                    "Utolső": "2016-10-08"
                                },
                                {
                                    "USERNEV": "anett3",
                                    "NEV": "Pivarcsi Anett",
                                    "SZUL_DAT": "1967-01-03",
                                    "Első": "2016-04-10",
                                    "Utolső": "2016-10-16"
                                },
                                {
                                    "USERNEV": "aniko",
                                    "NEV": "Tóth Anikó",
                                    "SZUL_DAT": "1973-06-03",
                                    "Első": "2016-06-25",
                                    "Utolső": "2017-02-23"
                                },
                                {
                                    "USERNEV": "aniko4",
                                    "NEV": "Böröcz Anikó",
                                    "SZUL_DAT": "1978-03-26",
                                    "Első": "2016-07-02",
                                    "Utolső": "2016-10-16"
                                },
                                {
                                    "USERNEV": "ANIKOS",
                                    "NEV": "Simon Anikó",
                                    "SZUL_DAT": "1988-12-14",
                                    "Első": "2016-04-19",
                                    "Utolső": "2016-11-10"
                                },
                                {
                                    "USERNEV": "anita",
                                    "NEV": "Hamvay-Kovács Anita",
                                    "SZUL_DAT": "1971-03-20",
                                    "Első": "2016-09-28",
                                    "Utolső": "2017-02-20"
                                },
                                {
                                    "USERNEV": "annamaria1",
                                    "NEV": "Szűcs Annamária",
                                    "SZUL_DAT": "1990-04-27",
                                    "Első": "2016-06-06",
                                    "Utolső": "2017-01-30"
                                },
                                {
                                    "USERNEV": "ANNAMARIAR",
                                    "NEV": "Regős Annamária",
                                    "SZUL_DAT": "1977-09-26",
                                    "Első": "2016-06-08",
                                    "Utolső": "2017-02-16"
                                },
                                {
                                    "USERNEV": "aron2",
                                    "NEV": "Jakab Áron",
                                    "SZUL_DAT": "1971-04-26",
                                    "Első": "2016-04-11",
                                    "Utolső": "2017-02-26"
                                },
                                {
                                    "USERNEV": "ARONK",
                                    "NEV": "Kelemen Áron",
                                    "SZUL_DAT": "1989-08-10",
                                    "Első": "2016-04-06",
                                    "Utolső": "2017-02-21"
                                },
                                {
                                    "USERNEV": "arpad2",
                                    "NEV": "Ötvös Árpád",
                                    "SZUL_DAT": "1990-06-08",
                                    "Első": "2016-06-05",
                                    "Utolső": "2017-02-18"
                                },
                                {
                                    "USERNEV": "ARPADH",
                                    "NEV": "Horváth Árpád",
                                    "SZUL_DAT": "1990-05-18",
                                    "Első": "2016-06-06",
                                    "Utolső": "2017-02-16"
                                },
                                {
                                    "USERNEV": "ARPADM",
                                    "NEV": "Móricz Árpád",
                                    "SZUL_DAT": "1986-04-20",
                                    "Első": "2016-05-29",
                                    "Utolső": "2017-02-12"
                                },
                                {
                                    "USERNEV": "attila",
                                    "NEV": "Csóti Attila",
                                    "SZUL_DAT": "1979-12-25",
                                    "Első": "2016-09-30",
                                    "Utolső": "2016-12-22"
                                },
                                {
                                    "USERNEV": "attila1",
                                    "NEV": "Gulyás Attila",
                                    "SZUL_DAT": "1982-08-16",
                                    "Első": "2016-05-20",
                                    "Utolső": "2017-01-23"
                                },
                                {
                                    "USERNEV": "attila4",
                                    "NEV": "Baróti Attila",
                                    "SZUL_DAT": "1975-11-06",
                                    "Első": "2016-08-18",
                                    "Utolső": "2017-02-15"
                                },
                                {
                                    "USERNEV": "ATTILAO",
                                    "NEV": "Opra Attila",
                                    "SZUL_DAT": "1995-05-08",
                                    "Első": "2016-05-21",
                                    "Utolső": "2017-02-22"
                                },
                                {
                                    "USERNEV": "balazs1",
                                    "NEV": "Bozsik Balázs",
                                    "SZUL_DAT": "1992-11-03",
                                    "Első": "2016-05-07",
                                    "Utolső": "2017-02-12"
                                },
                                {
                                    "USERNEV": "balazs2",
                                    "NEV": "Szűcs Balázs",
                                    "SZUL_DAT": "1984-10-31",
                                    "Első": "2016-04-16",
                                    "Utolső": "2017-02-27"
                                },
                                {
                                    "USERNEV": "balazs3",
                                    "NEV": "Bakódy Balázs",
                                    "SZUL_DAT": "1986-09-09",
                                    "Első": "2016-07-17",
                                    "Utolső": "2017-01-20"
                                },
                                {
                                    "USERNEV": "balint",
                                    "NEV": "Horváth Bálint",
                                    "SZUL_DAT": "1996-03-17",
                                    "Első": "2016-04-22",
                                    "Utolső": "2016-11-24"
                                },
                                {
                                    "USERNEV": "balint1",
                                    "NEV": "Molnár Bálint",
                                    "SZUL_DAT": "1989-08-24",
                                    "Első": "2016-06-07",
                                    "Utolső": "2017-01-03"
                                },
                                {
                                    "USERNEV": "balint2",
                                    "NEV": "Vukasinovity Bálint",
                                    "SZUL_DAT": "1997-09-03",
                                    "Első": "2016-07-21",
                                    "Utolső": "2016-12-04"
                                },
                                {
                                    "USERNEV": "balu",
                                    "NEV": "Endresz Bálint",
                                    "SZUL_DAT": "1976-08-01",
                                    "Első": "2016-08-06",
                                    "Utolső": "2016-12-22"
                                },
                                {
                                    "USERNEV": "beata4",
                                    "NEV": "Bagi Beáta",
                                    "SZUL_DAT": "1994-03-19",
                                    "Első": "2016-04-20",
                                    "Utolső": "2016-10-03"
                                },
                                {
                                    "USERNEV": "BEATRIXK",
                                    "NEV": "Kerényi Beatrix",
                                    "SZUL_DAT": "1972-04-06",
                                    "Első": "2016-06-10",
                                    "Utolső": "2017-02-08"
                                },
                                {
                                    "USERNEV": "BEATRIXS",
                                    "NEV": "Szekendi Beatrix",
                                    "SZUL_DAT": "1981-04-06",
                                    "Első": "2016-04-18",
                                    "Utolső": "2017-02-03"
                                },
                                {
                                    "USERNEV": "BELAF",
                                    "NEV": "Farkas Béla",
                                    "SZUL_DAT": "1995-02-24",
                                    "Első": "2016-07-27",
                                    "Utolső": "2016-12-06"
                                },
                                {
                                    "USERNEV": "bence",
                                    "NEV": "Győrffy Bence",
                                    "SZUL_DAT": "1987-07-09",
                                    "Első": "2016-05-08",
                                    "Utolső": "2017-02-05"
                                },
                                {
                                    "USERNEV": "BENCEB",
                                    "NEV": "Bajusz Bence",
                                    "SZUL_DAT": "1973-06-21",
                                    "Első": "2016-05-14",
                                    "Utolső": "2017-02-12"
                                },
                                {
                                    "USERNEV": "bernadett1",
                                    "NEV": "Simon Bernadett",
                                    "SZUL_DAT": "1984-10-13",
                                    "Első": "2016-06-12",
                                    "Utolső": "2017-02-24"
                                },
                                {
                                    "USERNEV": "bernadett2",
                                    "NEV": "Kovács Bernadett",
                                    "SZUL_DAT": "1996-08-20",
                                    "Első": "2016-05-01",
                                    "Utolső": "2017-01-24"
                                },
                                {
                                    "USERNEV": "BERNADETTO",
                                    "NEV": "Orbán Bernadett",
                                    "SZUL_DAT": "1987-12-07",
                                    "Első": "2016-04-10",
                                    "Utolső": "2017-01-28"
                                },
                                {
                                    "USERNEV": "bertalan",
                                    "NEV": "Csiger Bertalan",
                                    "SZUL_DAT": "1977-10-15",
                                    "Első": "2016-05-18",
                                    "Utolső": "2017-02-20"
                                },
                                {
                                    "USERNEV": "brigitta",
                                    "NEV": "Székely Brigitta",
                                    "SZUL_DAT": "1978-09-13",
                                    "Első": "2016-05-30",
                                    "Utolső": "2017-01-23"
                                },
                                {
                                    "USERNEV": "brigitta3",
                                    "NEV": "Pataki Brigitta",
                                    "SZUL_DAT": "1991-05-23",
                                    "Első": "2016-06-01",
                                    "Utolső": "2017-02-09"
                                },
                                {
                                    "USERNEV": "csongor3",
                                    "NEV": "Nagymihály Csongor",
                                    "SZUL_DAT": "1984-03-05",
                                    "Első": "2016-05-01",
                                    "Utolső": "2017-02-13"
                                },
                                {
                                    "USERNEV": "dani",
                                    "NEV": "Vörös Dániel",
                                    "SZUL_DAT": "1986-10-14",
                                    "Első": "2016-06-06",
                                    "Utolső": "2017-02-25"
                                },
                                {
                                    "USERNEV": "daniel",
                                    "NEV": "Rácz Dániel",
                                    "SZUL_DAT": "1978-11-28",
                                    "Első": "2016-04-10",
                                    "Utolső": "2017-02-20"
                                },
                                {
                                    "USERNEV": "daniel1",
                                    "NEV": "Keszler Dániel",
                                    "SZUL_DAT": "1969-07-16",
                                    "Első": "2016-04-10",
                                    "Utolső": "2017-03-01"
                                },
                                {
                                    "USERNEV": "david",
                                    "NEV": "Ambrus Dávid",
                                    "SZUL_DAT": "1974-02-11",
                                    "Első": "2016-05-18",
                                    "Utolső": "2017-01-18"
                                },
                                {
                                    "USERNEV": "david1",
                                    "NEV": "Sobják Dávid",
                                    "SZUL_DAT": "1970-08-16",
                                    "Első": "2016-09-20",
                                    "Utolső": "2017-02-25"
                                },
                                {
                                    "USERNEV": "david4",
                                    "NEV": "Berta Dávid",
                                    "SZUL_DAT": "1990-10-08",
                                    "Első": "2017-02-16",
                                    "Utolső": "2017-02-16"
                                },
                                {
                                    "USERNEV": "debora",
                                    "NEV": "Barna Debóra",
                                    "SZUL_DAT": "1976-10-14",
                                    "Első": "2016-06-22",
                                    "Utolső": "2017-02-04"
                                },
                                {
                                    "USERNEV": "denes",
                                    "NEV": "Tömböly Dénes",
                                    "SZUL_DAT": "1975-03-14",
                                    "Első": "2016-05-27",
                                    "Utolső": "2016-11-06"
                                },
                                {
                                    "USERNEV": "dora3",
                                    "NEV": "Sarodi Dóra",
                                    "SZUL_DAT": "1995-05-18",
                                    "Első": "2016-08-16",
                                    "Utolső": "2016-11-22"
                                },
                                {
                                    "USERNEV": "edit",
                                    "NEV": "Bittmann Edit",
                                    "SZUL_DAT": "1984-04-20",
                                    "Első": "2016-07-14",
                                    "Utolső": "2017-02-08"
                                },
                                {
                                    "USERNEV": "emese",
                                    "NEV": "Kuruc Emese",
                                    "SZUL_DAT": "1989-08-10",
                                    "Első": "2016-07-22",
                                    "Utolső": "2017-01-30"
                                },
                                {
                                    "USERNEV": "eszter",
                                    "NEV": "Molnár Eszter",
                                    "SZUL_DAT": "1987-05-10",
                                    "Első": "2016-08-12",
                                    "Utolső": "2016-12-23"
                                },
                                {
                                    "USERNEV": "eszter2",
                                    "NEV": "Balogh Eszter",
                                    "SZUL_DAT": "1998-01-31",
                                    "Első": "2016-06-30",
                                    "Utolső": "2016-12-29"
                                },
                                {
                                    "USERNEV": "eszter4",
                                    "NEV": "Fülöp Eszter",
                                    "SZUL_DAT": "1993-06-28",
                                    "Első": "2017-01-05",
                                    "Utolső": "2017-02-26"
                                },
                                {
                                    "USERNEV": "ESZTERE",
                                    "NEV": "Érsek Eszter",
                                    "SZUL_DAT": "1978-08-28",
                                    "Első": "2016-05-30",
                                    "Utolső": "2017-02-10"
                                },
                                {
                                    "USERNEV": "eva",
                                    "NEV": "Enyedi Éva",
                                    "SZUL_DAT": "1967-06-30",
                                    "Első": "2016-10-06",
                                    "Utolső": "2017-01-14"
                                },
                                {
                                    "USERNEV": "eva2",
                                    "NEV": "Perlinger Éva",
                                    "SZUL_DAT": "1971-08-19",
                                    "Első": "2016-09-02",
                                    "Utolső": "2017-01-06"
                                },
                                {
                                    "USERNEV": "EVAV",
                                    "NEV": "Viktor Éva",
                                    "SZUL_DAT": "1980-12-26",
                                    "Első": "2016-05-01",
                                    "Utolső": "2017-02-04"
                                },
                                {
                                    "USERNEV": "ferenc1",
                                    "NEV": "Orosz Ferenc",
                                    "SZUL_DAT": "1983-10-08",
                                    "Első": "2016-05-08",
                                    "Utolső": "2016-11-07"
                                },
                                {
                                    "USERNEV": "fruzsina4",
                                    "NEV": "Frank Fruzsina",
                                    "SZUL_DAT": "1996-08-16",
                                    "Első": "2016-06-02",
                                    "Utolső": "2017-01-22"
                                },
                                {
                                    "USERNEV": "gabor1",
                                    "NEV": "Köves Gábor",
                                    "SZUL_DAT": "1973-07-15",
                                    "Első": "2016-06-20",
                                    "Utolső": "2016-11-19"
                                },
                                {
                                    "USERNEV": "gabor4",
                                    "NEV": "Telek Gábor",
                                    "SZUL_DAT": "1987-03-15",
                                    "Első": "2016-04-26",
                                    "Utolső": "2016-11-07"
                                },
                                {
                                    "USERNEV": "gabriella1",
                                    "NEV": "Nagy Gabriella",
                                    "SZUL_DAT": "1982-11-01",
                                    "Első": "2016-04-21",
                                    "Utolső": "2017-02-21"
                                },
                                {
                                    "USERNEV": "gabriella10",
                                    "NEV": "Vida Gabriella",
                                    "SZUL_DAT": "1969-06-18",
                                    "Első": "2016-10-01",
                                    "Utolső": "2016-10-01"
                                },
                                {
                                    "USERNEV": "georgij",
                                    "NEV": "Nyíri Georgij",
                                    "SZUL_DAT": "1983-02-23",
                                    "Első": "2016-06-16",
                                    "Utolső": "2016-09-18"
                                },
                                {
                                    "USERNEV": "gusztav",
                                    "NEV": "Bárci Gusztáv",
                                    "SZUL_DAT": "1967-02-25",
                                    "Első": "2016-05-06",
                                    "Utolső": "2017-02-23"
                                },
                                {
                                    "USERNEV": "GYONGYIK",
                                    "NEV": "Kornseé Gyöngyi",
                                    "SZUL_DAT": "1974-06-07",
                                    "Első": "2016-06-02",
                                    "Utolső": "2017-01-22"
                                },
                                {
                                    "USERNEV": "GYORGYO",
                                    "NEV": "Oroszi György",
                                    "SZUL_DAT": "1980-03-23",
                                    "Első": "2016-05-27",
                                    "Utolső": "2017-02-24"
                                },
                                {
                                    "USERNEV": "henrik3",
                                    "NEV": "Nádudvari Henrik",
                                    "SZUL_DAT": "1986-12-05",
                                    "Első": "2016-08-24",
                                    "Utolső": "2017-01-27"
                                },
                                {
                                    "USERNEV": "IBOLYAA",
                                    "NEV": "Andor Ibolya",
                                    "SZUL_DAT": "1983-11-27",
                                    "Első": "2016-08-29",
                                    "Utolső": "2017-01-17"
                                },
                                {
                                    "USERNEV": "ilona3",
                                    "NEV": "Bosnyák Ilona",
                                    "SZUL_DAT": "1990-08-06",
                                    "Első": "2016-07-31",
                                    "Utolső": "2016-12-25"
                                },
                                {
                                    "USERNEV": "imre",
                                    "NEV": "Búza Imre",
                                    "SZUL_DAT": "1988-09-30",
                                    "Első": "2016-09-17",
                                    "Utolső": "2016-10-28"
                                },
                                {
                                    "USERNEV": "imre1",
                                    "NEV": "Papp Imre",
                                    "SZUL_DAT": "1976-06-25",
                                    "Első": "2016-06-23",
                                    "Utolső": "2017-02-05"
                                },
                                {
                                    "USERNEV": "istvan",
                                    "NEV": "Soós István",
                                    "SZUL_DAT": "1986-06-28",
                                    "Első": "2016-10-07",
                                    "Utolső": "2017-01-02"
                                },
                                {
                                    "USERNEV": "istvan1",
                                    "NEV": "Vizi István",
                                    "SZUL_DAT": "1997-12-01",
                                    "Első": "2016-04-16",
                                    "Utolső": "2017-02-07"
                                },
                                {
                                    "USERNEV": "ISTVANV",
                                    "NEV": "Varga István",
                                    "SZUL_DAT": "1989-04-09",
                                    "Első": "2016-07-01",
                                    "Utolső": "2016-09-29"
                                },
                                {
                                    "USERNEV": "janos3",
                                    "NEV": "Harangozó János",
                                    "SZUL_DAT": "1967-11-02",
                                    "Első": "2016-06-04",
                                    "Utolső": "2017-02-12"
                                },
                                {
                                    "USERNEV": "JANOSG",
                                    "NEV": "Giliga János",
                                    "SZUL_DAT": "1975-01-03",
                                    "Első": "2016-05-09",
                                    "Utolső": "2017-01-31"
                                },
                                {
                                    "USERNEV": "JANOSP",
                                    "NEV": "Pálinkás János",
                                    "SZUL_DAT": "1984-10-12",
                                    "Első": "2016-07-04",
                                    "Utolső": "2016-12-18"
                                },
                                {
                                    "USERNEV": "jozsef",
                                    "NEV": "Gergely József",
                                    "SZUL_DAT": "1985-11-01",
                                    "Első": "2016-09-13",
                                    "Utolső": "2016-12-06"
                                },
                                {
                                    "USERNEV": "jozsef2",
                                    "NEV": "Vajda József",
                                    "SZUL_DAT": "1978-09-04",
                                    "Első": "2016-07-06",
                                    "Utolső": "2016-11-25"
                                },
                                {
                                    "USERNEV": "JOZSEFG",
                                    "NEV": "Gyuris József",
                                    "SZUL_DAT": "1975-05-26",
                                    "Első": "2016-05-02",
                                    "Utolső": "2017-02-24"
                                },
                                {
                                    "USERNEV": "JUDITH",
                                    "NEV": "Hídasi Judit",
                                    "SZUL_DAT": "1997-07-12",
                                    "Első": "2016-06-06",
                                    "Utolső": "2016-12-19"
                                },
                                {
                                    "USERNEV": "julia",
                                    "NEV": "Tóth Júlia",
                                    "SZUL_DAT": "1993-03-02",
                                    "Első": "2016-04-21",
                                    "Utolső": "2017-02-27"
                                },
                                {
                                    "USERNEV": "julia4",
                                    "NEV": "Nagy Júlia",
                                    "SZUL_DAT": "1985-08-11",
                                    "Első": "2016-11-07",
                                    "Utolső": "2017-02-04"
                                },
                                {
                                    "USERNEV": "julianna4",
                                    "NEV": "Szabó Julianna",
                                    "SZUL_DAT": "1990-09-29",
                                    "Első": "2016-07-20",
                                    "Utolső": "2016-11-27"
                                },
                                {
                                    "USERNEV": "kata",
                                    "NEV": "Gondos Katalin",
                                    "SZUL_DAT": "1968-06-22",
                                    "Első": "2016-04-10",
                                    "Utolső": "2017-01-15"
                                },
                                {
                                    "USERNEV": "katalin",
                                    "NEV": "Horváth Katalin",
                                    "SZUL_DAT": "1968-01-01",
                                    "Első": "2016-04-10",
                                    "Utolső": "2017-02-24"
                                },
                                {
                                    "USERNEV": "katalin4",
                                    "NEV": "Kertész Katalin",
                                    "SZUL_DAT": "1986-04-13",
                                    "Első": "2016-07-01",
                                    "Utolső": "2017-01-24"
                                },
                                {
                                    "USERNEV": "kati",
                                    "NEV": "Zatykó Katalin",
                                    "SZUL_DAT": "1995-05-01",
                                    "Első": "2016-06-06",
                                    "Utolső": "2016-10-30"
                                },
                                {
                                    "USERNEV": "katka",
                                    "NEV": "Kovács Katalin",
                                    "SZUL_DAT": "1975-03-31",
                                    "Első": "2016-04-10",
                                    "Utolső": "2017-01-19"
                                },
                                {
                                    "USERNEV": "klaudia2",
                                    "NEV": "Bakó Klaudia",
                                    "SZUL_DAT": "1982-04-16",
                                    "Első": "2016-06-06",
                                    "Utolső": "2016-10-02"
                                },
                                {
                                    "USERNEV": "kornel4",
                                    "NEV": "Lukács Kornél",
                                    "SZUL_DAT": "1975-09-30",
                                    "Első": "2016-05-08",
                                    "Utolső": "2016-09-23"
                                },
                                {
                                    "USERNEV": "kristof4",
                                    "NEV": "Poprádi Kristóf",
                                    "SZUL_DAT": "1984-01-15",
                                    "Első": "2016-04-08",
                                    "Utolső": "2016-09-30"
                                },
                                {
                                    "USERNEV": "kriszti",
                                    "NEV": "Horváth Krisztina",
                                    "SZUL_DAT": "1978-06-12",
                                    "Első": "2016-05-19",
                                    "Utolső": "2017-03-03"
                                },
                                {
                                    "USERNEV": "krisztian4",
                                    "NEV": "Czérna Krisztián",
                                    "SZUL_DAT": "1970-08-01",
                                    "Első": "2016-06-03",
                                    "Utolső": "2017-02-23"
                                },
                                {
                                    "USERNEV": "KRISZTIANM",
                                    "NEV": "Mogyródi Krisztián",
                                    "SZUL_DAT": "1968-05-27",
                                    "Első": "2016-04-09",
                                    "Utolső": "2017-01-16"
                                },
                                {
                                    "USERNEV": "krisztina",
                                    "NEV": "Szedlár Krisztina",
                                    "SZUL_DAT": "1979-05-10",
                                    "Első": "2016-05-21",
                                    "Utolső": "2017-02-16"
                                },
                                {
                                    "USERNEV": "krisztina1",
                                    "NEV": "Bori Krisztina",
                                    "SZUL_DAT": "1969-10-13",
                                    "Első": "2016-04-28",
                                    "Utolső": "2017-01-21"
                                },
                                {
                                    "USERNEV": "KRISZTINAG",
                                    "NEV": "Gyárfás Krisztina",
                                    "SZUL_DAT": "1987-09-19",
                                    "Első": "2016-04-23",
                                    "Utolső": "2017-01-25"
                                },
                                {
                                    "USERNEV": "lajos",
                                    "NEV": "Kiss Lajos",
                                    "SZUL_DAT": "1978-10-31",
                                    "Első": "2016-07-18",
                                    "Utolső": "2017-02-12"
                                },
                                {
                                    "USERNEV": "lala",
                                    "NEV": "Nagymihály Lajos",
                                    "SZUL_DAT": "1997-02-24",
                                    "Első": "2016-06-16",
                                    "Utolső": "2017-01-17"
                                },
                                {
                                    "USERNEV": "laszlo1",
                                    "NEV": "Farkas László",
                                    "SZUL_DAT": "1967-10-30",
                                    "Első": "2016-09-23",
                                    "Utolső": "2016-09-23"
                                },
                                {
                                    "USERNEV": "laszlo2",
                                    "NEV": "Móra László",
                                    "SZUL_DAT": "1975-02-19",
                                    "Első": "2016-04-06",
                                    "Utolső": "2016-11-25"
                                },
                                {
                                    "USERNEV": "LASZLOA",
                                    "NEV": "Antal László",
                                    "SZUL_DAT": "1969-06-29",
                                    "Első": "2016-06-03",
                                    "Utolső": "2017-02-08"
                                },
                                {
                                    "USERNEV": "LASZLON",
                                    "NEV": "Nagy László",
                                    "SZUL_DAT": "1969-04-12",
                                    "Első": "2016-06-03",
                                    "Utolső": "2017-02-18"
                                },
                                {
                                    "USERNEV": "maria1",
                                    "NEV": "Baráth Mária",
                                    "SZUL_DAT": "1995-11-19",
                                    "Első": "2016-05-13",
                                    "Utolső": "2017-02-24"
                                },
                                {
                                    "USERNEV": "mark",
                                    "NEV": "Kispál Márk",
                                    "SZUL_DAT": "1996-01-23",
                                    "Első": "2016-04-19",
                                    "Utolső": "2016-11-19"
                                },
                                {
                                    "USERNEV": "MARKH",
                                    "NEV": "Horváth Márk",
                                    "SZUL_DAT": "1997-09-23",
                                    "Első": "2016-09-14",
                                    "Utolső": "2017-01-22"
                                },
                                {
                                    "USERNEV": "marton",
                                    "NEV": "Kalacsi Márton",
                                    "SZUL_DAT": "1989-06-24",
                                    "Első": "2016-04-27",
                                    "Utolső": "2017-03-02"
                                },
                                {
                                    "USERNEV": "MATEK",
                                    "NEV": "Koza Máté",
                                    "SZUL_DAT": "1997-02-28",
                                    "Első": "2016-08-17",
                                    "Utolső": "2017-01-16"
                                },
                                {
                                    "USERNEV": "matyas2",
                                    "NEV": "Botka Mátyás",
                                    "SZUL_DAT": "1972-07-07",
                                    "Első": "2016-07-13",
                                    "Utolső": "2016-12-09"
                                },
                                {
                                    "USERNEV": "MATYASS",
                                    "NEV": "Szilágyi Mátyás",
                                    "SZUL_DAT": "1975-03-22",
                                    "Első": "2016-05-10",
                                    "Utolső": "2017-01-09"
                                },
                                {
                                    "USERNEV": "MIHALYJ",
                                    "NEV": "Juhász Mihály",
                                    "SZUL_DAT": "1979-10-12",
                                    "Első": "2016-05-30",
                                    "Utolső": "2017-02-06"
                                },
                                {
                                    "USERNEV": "miklos2",
                                    "NEV": "Gondos Miklós",
                                    "SZUL_DAT": "1995-10-07",
                                    "Első": "2016-04-19",
                                    "Utolső": "2016-11-16"
                                },
                                {
                                    "USERNEV": "MIKLOSB",
                                    "NEV": "Balla Miklós",
                                    "SZUL_DAT": "1979-02-16",
                                    "Első": "2016-06-26",
                                    "Utolső": "2016-12-05"
                                },
                                {
                                    "USERNEV": "MONIKAM",
                                    "NEV": "Mohos Mónika",
                                    "SZUL_DAT": "1974-10-01",
                                    "Első": "2016-04-29",
                                    "Utolső": "2017-02-23"
                                },
                                {
                                    "USERNEV": "NANDORF",
                                    "NEV": "Fő Nándor",
                                    "SZUL_DAT": "1968-11-12",
                                    "Első": "2016-04-06",
                                    "Utolső": "2017-02-05"
                                },
                                {
                                    "USERNEV": "nikolett3",
                                    "NEV": "Horváth Nikolett",
                                    "SZUL_DAT": "1981-09-29",
                                    "Első": "2016-05-24",
                                    "Utolső": "2016-10-22"
                                },
                                {
                                    "USERNEV": "nikoletta4",
                                    "NEV": "Kő Nikoletta",
                                    "SZUL_DAT": "1972-01-10",
                                    "Első": "2016-04-08",
                                    "Utolső": "2017-02-01"
                                },
                                {
                                    "USERNEV": "NIKOLETTAT",
                                    "NEV": "Tatár Nikoletta",
                                    "SZUL_DAT": "1997-10-19",
                                    "Első": "2016-05-22",
                                    "Utolső": "2016-09-21"
                                },
                                {
                                    "USERNEV": "norbert",
                                    "NEV": "Szűcs Norbert",
                                    "SZUL_DAT": "1969-07-17",
                                    "Első": "2016-07-08",
                                    "Utolső": "2017-02-26"
                                },
                                {
                                    "USERNEV": "norbert2",
                                    "NEV": "Hegedűs Norbert",
                                    "SZUL_DAT": "1991-07-17",
                                    "Első": "2016-04-19",
                                    "Utolső": "2017-01-29"
                                },
                                {
                                    "USERNEV": "norbert4",
                                    "NEV": "Mile Norbert",
                                    "SZUL_DAT": "1983-06-15",
                                    "Első": "2016-04-10",
                                    "Utolső": "2017-03-03"
                                },
                                {
                                    "USERNEV": "norbert5",
                                    "NEV": "Béres Norbert",
                                    "SZUL_DAT": "1975-07-27",
                                    "Első": "2016-06-24",
                                    "Utolső": "2016-11-05"
                                },
                                {
                                    "USERNEV": "pal",
                                    "NEV": "Barabás Pál",
                                    "SZUL_DAT": "1968-02-06",
                                    "Első": "2016-08-14",
                                    "Utolső": "2017-02-20"
                                },
                                {
                                    "USERNEV": "peter1",
                                    "NEV": "Kozma Péter",
                                    "SZUL_DAT": "1976-03-18",
                                    "Első": "2016-07-14",
                                    "Utolső": "2017-02-28"
                                },
                                {
                                    "USERNEV": "peter2",
                                    "NEV": "Bozsó Péter",
                                    "SZUL_DAT": "1976-01-26",
                                    "Első": "2016-07-03",
                                    "Utolső": "2016-11-15"
                                },
                                {
                                    "USERNEV": "peter3",
                                    "NEV": "Szalai Péter",
                                    "SZUL_DAT": "1983-07-18",
                                    "Első": "2016-06-30",
                                    "Utolső": "2017-02-21"
                                },
                                {
                                    "USERNEV": "peter4",
                                    "NEV": "Bíró Péter",
                                    "SZUL_DAT": "1985-09-01",
                                    "Első": "2016-04-12",
                                    "Utolső": "2017-02-05"
                                },
                                {
                                    "USERNEV": "PETERB",
                                    "NEV": "Berendi Péter",
                                    "SZUL_DAT": "1969-01-01",
                                    "Első": "2016-04-06",
                                    "Utolső": "2016-11-17"
                                },
                                {
                                    "USERNEV": "polla",
                                    "NEV": "Palágyi Polla",
                                    "SZUL_DAT": "1994-02-04",
                                    "Első": "2016-04-17",
                                    "Utolső": "2017-02-11"
                                },
                                {
                                    "USERNEV": "rajmond4",
                                    "NEV": "Rácz Rajmond",
                                    "SZUL_DAT": "1993-09-25",
                                    "Első": "2016-09-05",
                                    "Utolső": "2016-11-16"
                                },
                                {
                                    "USERNEV": "reka4",
                                    "NEV": "Szikszai Réka",
                                    "SZUL_DAT": "1969-11-27",
                                    "Első": "2016-07-27",
                                    "Utolső": "2017-02-26"
                                },
                                {
                                    "USERNEV": "RENATAK",
                                    "NEV": "Kardos Renáta",
                                    "SZUL_DAT": "1988-05-17",
                                    "Első": "2016-10-27",
                                    "Utolső": "2017-03-01"
                                },
                                {
                                    "USERNEV": "RENATAS",
                                    "NEV": "Szirmai Renáta",
                                    "SZUL_DAT": "1991-03-26",
                                    "Első": "2016-05-04",
                                    "Utolső": "2017-02-14"
                                },
                                {
                                    "USERNEV": "robert2",
                                    "NEV": "Patay Róbert",
                                    "SZUL_DAT": "1977-01-08",
                                    "Első": "2016-05-15",
                                    "Utolső": "2016-12-17"
                                },
                                {
                                    "USERNEV": "ROBERTI",
                                    "NEV": "Iván Róbert",
                                    "SZUL_DAT": "1967-07-02",
                                    "Első": "2016-07-12",
                                    "Utolső": "2017-02-17"
                                },
                                {
                                    "USERNEV": "ROBERTP",
                                    "NEV": "Pásztor Róbert",
                                    "SZUL_DAT": "1972-05-16",
                                    "Első": "2016-07-30",
                                    "Utolső": "2016-09-08"
                                },
                                {
                                    "USERNEV": "roland",
                                    "NEV": "Tóth Roland",
                                    "SZUL_DAT": "1968-03-21",
                                    "Első": "2016-06-09",
                                    "Utolső": "2016-11-19"
                                },
                                {
                                    "USERNEV": "roland1",
                                    "NEV": "Ferencz Roland",
                                    "SZUL_DAT": "1985-12-31",
                                    "Első": "2016-11-05",
                                    "Utolső": "2017-01-16"
                                },
                                {
                                    "USERNEV": "roza2",
                                    "NEV": "Bucskó Róza",
                                    "SZUL_DAT": "1988-12-26",
                                    "Első": "2016-09-10",
                                    "Utolső": "2017-02-18"
                                },
                                {
                                    "USERNEV": "sandor",
                                    "NEV": "Karasz Sándor",
                                    "SZUL_DAT": "1970-01-27",
                                    "Első": "2016-07-04",
                                    "Utolső": "2016-09-19"
                                },
                                {
                                    "USERNEV": "sandor3",
                                    "NEV": "Farkas Sándor",
                                    "SZUL_DAT": "1989-01-27",
                                    "Első": "2016-05-12",
                                    "Utolső": "2016-11-10"
                                },
                                {
                                    "USERNEV": "sandor4",
                                    "NEV": "Nagy Sándor",
                                    "SZUL_DAT": "1997-06-11",
                                    "Első": "2016-10-15",
                                    "Utolső": "2017-01-22"
                                },
                                {
                                    "USERNEV": "sara",
                                    "NEV": "Farkas Sára",
                                    "SZUL_DAT": "1973-04-05",
                                    "Első": "2016-05-28",
                                    "Utolső": "2016-12-25"
                                },
                                {
                                    "USERNEV": "SEBASTIANF",
                                    "NEV": "Foltényi Sebastián",
                                    "SZUL_DAT": "1992-09-09",
                                    "Első": "2016-04-06",
                                    "Utolső": "2016-09-17"
                                },
                                {
                                    "USERNEV": "sebestyen",
                                    "NEV": "Rab Sebestyén",
                                    "SZUL_DAT": "1992-03-03",
                                    "Első": "2016-04-07",
                                    "Utolső": "2016-10-26"
                                },
                                {
                                    "USERNEV": "szabolcs",
                                    "NEV": "Bodor Szabolcs",
                                    "SZUL_DAT": "1990-07-16",
                                    "Első": "2016-12-05",
                                    "Utolső": "2016-12-05"
                                },
                                {
                                    "USERNEV": "SZABOLCSM",
                                    "NEV": "Miklós Szabolcs",
                                    "SZUL_DAT": "1980-08-11",
                                    "Első": "2016-06-18",
                                    "Utolső": "2017-02-04"
                                },
                                {
                                    "USERNEV": "SZILARDS",
                                    "NEV": "Szalai Szilárd",
                                    "SZUL_DAT": "1967-09-28",
                                    "Első": "2016-04-23",
                                    "Utolső": "2017-02-08"
                                },
                                {
                                    "USERNEV": "szilvia1",
                                    "NEV": "Tari Szilvia",
                                    "SZUL_DAT": "1971-03-09",
                                    "Első": "2016-05-14",
                                    "Utolső": "2017-01-28"
                                },
                                {
                                    "USERNEV": "tamara2",
                                    "NEV": "Miklós Tamara",
                                    "SZUL_DAT": "1980-08-11",
                                    "Első": "2016-08-12",
                                    "Utolső": "2016-11-15"
                                },
                                {
                                    "USERNEV": "tamas",
                                    "NEV": "Antal Tamás",
                                    "SZUL_DAT": "1984-09-05",
                                    "Első": "2016-05-17",
                                    "Utolső": "2017-02-14"
                                },
                                {
                                    "USERNEV": "TAMASF",
                                    "NEV": "Fényes Tamás",
                                    "SZUL_DAT": "1997-11-06",
                                    "Első": "2016-05-03",
                                    "Utolső": "2017-02-16"
                                },
                                {
                                    "USERNEV": "tibor",
                                    "NEV": "Gombos Tibor",
                                    "SZUL_DAT": "1993-11-28",
                                    "Első": "2016-10-09",
                                    "Utolső": "2016-11-05"
                                },
                                {
                                    "USERNEV": "tibor2",
                                    "NEV": "Dániel Tibor",
                                    "SZUL_DAT": "1985-02-02",
                                    "Első": "2016-10-20",
                                    "Utolső": "2016-10-20"
                                },
                                {
                                    "USERNEV": "tihamer",
                                    "NEV": "Kazy Tihamér",
                                    "SZUL_DAT": "1991-07-05",
                                    "Első": "2016-05-30",
                                    "Utolső": "2016-12-25"
                                },
                                {
                                    "USERNEV": "timea",
                                    "NEV": "Papós Tímea",
                                    "SZUL_DAT": "1996-01-08",
                                    "Első": "2016-12-26",
                                    "Utolső": "2016-12-26"
                                },
                                {
                                    "USERNEV": "timea2",
                                    "NEV": "Dusha Tímea",
                                    "SZUL_DAT": "1975-08-22",
                                    "Első": "2016-06-06",
                                    "Utolső": "2016-12-14"
                                },
                                {
                                    "USERNEV": "tunde",
                                    "NEV": "Turcsik Tünde",
                                    "SZUL_DAT": "1974-02-12",
                                    "Első": "2016-06-03",
                                    "Utolső": "2017-01-03"
                                },
                                {
                                    "USERNEV": "valentin",
                                    "NEV": "Feró Valentin",
                                    "SZUL_DAT": "1986-01-09",
                                    "Első": "2016-05-24",
                                    "Utolső": "2016-12-01"
                                },
                                {
                                    "USERNEV": "veronika4",
                                    "NEV": "Tankó Veronika",
                                    "SZUL_DAT": "1983-08-28",
                                    "Első": "2016-05-30",
                                    "Utolső": "2017-02-03"
                                },
                                {
                                    "USERNEV": "VIKTORIAU",
                                    "NEV": "Urbán Viktoria",
                                    "SZUL_DAT": "1996-05-03",
                                    "Első": "2016-04-30",
                                    "Utolső": "2016-10-26"
                                },
                                {
                                    "USERNEV": "VIKTORK",
                                    "NEV": "Keresztúri Viktor",
                                    "SZUL_DAT": "1989-05-05",
                                    "Első": "2016-05-30",
                                    "Utolső": "2016-06-06"
                                },
                                {
                                    "USERNEV": "vivien3",
                                    "NEV": "Boros Vivien",
                                    "SZUL_DAT": "1991-07-01",
                                    "Első": "2016-05-02",
                                    "Utolső": "2016-12-24"
                                },
                                {
                                    "USERNEV": "zoltan",
                                    "NEV": "Fodor Zoltán",
                                    "SZUL_DAT": "1979-11-25",
                                    "Első": "2016-08-24",
                                    "Utolső": "2016-09-05"
                                },
                                {
                                    "USERNEV": "zoltan4",
                                    "NEV": "Barna Zoltán",
                                    "SZUL_DAT": "1986-05-20",
                                    "Első": "2016-05-12",
                                    "Utolső": "2017-01-01"
                                },
                                {
                                    "USERNEV": "ZOLTANP",
                                    "NEV": "Pintér Zoltán",
                                    "SZUL_DAT": "1977-06-07",
                                    "Első": "2016-06-05",
                                    "Utolső": "2016-12-25"
                                },
                                {
                                    "USERNEV": "ZOLTANT",
                                    "NEV": "Tóth Zoltán",
                                    "SZUL_DAT": "1985-12-14",
                                    "Első": "2016-05-01",
                                    "Utolső": "2017-01-16"
                                },
                                {
                                    "USERNEV": "zsofi1",
                                    "NEV": "Molnár Zsófi",
                                    "SZUL_DAT": "1983-11-17",
                                    "Első": "2016-06-16",
                                    "Utolső": "2017-02-18"
                                },
                                {
                                    "USERNEV": "zsolt1",
                                    "NEV": "Pulai Zsolt",
                                    "SZUL_DAT": "1988-05-27",
                                    "Első": "2016-04-14",
                                    "Utolső": "2016-07-31"
                                },
                                {
                                    "USERNEV": "ZSOLTJ",
                                    "NEV": "Józsa Zsolt",
                                    "SZUL_DAT": "1983-09-29",
                                    "Első": "2016-04-24",
                                    "Utolső": "2016-10-01"
                                },
                                {
                                    "USERNEV": "zsuzsa",
                                    "NEV": "Pusztai Zsuzsanna",
                                    "SZUL_DAT": "1980-09-17",
                                    "Első": "2016-07-24",
                                    "Utolső": "2016-11-28"
                                },
                                {
                                    "USERNEV": "zsuzsa3",
                                    "NEV": "Varsányi Zsuzsa",
                                    "SZUL_DAT": "1979-03-06",
                                    "Első": "2016-07-30",
                                    "Utolső": "2016-10-27"
                                },
                                {
                                    "USERNEV": "zsuzsanna",
                                    "NEV": "Barta Zsuzsanna",
                                    "SZUL_DAT": "1994-10-07",
                                    "Első": "2016-05-17",
                                    "Utolső": "2017-01-16"
                                },
                                {
                                    "USERNEV": "ZSUZSAV",
                                    "NEV": "Vajda Zsuzsa",
                                    "SZUL_DAT": "1976-12-11",
                                    "Első": "2016-04-14",
                                    "Utolső": "2016-11-21"
                                }
                            ]
                        },
                        "text/html": [
                            "<table>",
                            "<tr><th>USERNEV</th><th>NEV</th><th>SZUL_DAT</th><th>Első</th><th>Utolső</th></tr>",
                            "<tr><td>adam1</td><td>Kiss Ádám</td><td>1991-12-28</td><td>2016-05-28</td><td>2016-10-19</td></tr>",
                            "<tr><td>adam3</td><td>Barkóci Ádám</td><td>1970-06-07</td><td>2016-09-12</td><td>2017-02-06</td></tr>",
                            "<tr><td>adam4</td><td>Bieniek Ádám</td><td>1976-08-01</td><td>2016-08-28</td><td>2017-02-23</td></tr>",
                            "<tr><td>agnes</td><td>Lengyel Ágnes</td><td>1979-12-10</td><td>2016-05-09</td><td>2016-11-07</td></tr>",
                            "<tr><td>agnes3</td><td>Hartyánszky Ágnes</td><td>1967-04-11</td><td>2016-08-04</td><td>2017-02-16</td></tr>",
                            "<tr><td>AGNESH</td><td>Horváth Ágnes</td><td>1981-12-24</td><td>2016-04-10</td><td>2017-01-16</td></tr>",
                            "<tr><td>AGNESK</td><td>Kovács Ágnes</td><td>1988-10-02</td><td>2016-07-29</td><td>2016-12-17</td></tr>",
                            "<tr><td>akos</td><td>Bíró Ákos</td><td>1982-04-24</td><td>2016-05-18</td><td>2016-12-29</td></tr>",
                            "<tr><td>aladar</td><td>Dunai Aladár</td><td>1980-11-01</td><td>2016-05-17</td><td>2016-11-22</td></tr>",
                            "<tr><td>alexandra</td><td>Bagóczki Alexandra</td><td>1992-03-25</td><td>2016-05-21</td><td>2017-01-19</td></tr>",
                            "<tr><td>andi</td><td>Maródi Andrea</td><td>1968-05-07</td><td>2016-05-08</td><td>2017-01-13</td></tr>",
                            "<tr><td>andras2</td><td>Tóth András</td><td>1997-10-31</td><td>2016-05-30</td><td>2017-02-08</td></tr>",
                            "<tr><td>andras21</td><td>Molnár András</td><td>1977-11-16</td><td>2016-06-21</td><td>2017-01-28</td></tr>",
                            "<tr><td>andras3</td><td>Vígh András</td><td>1971-04-02</td><td>2016-05-01</td><td>2017-02-02</td></tr>",
                            "<tr><td>andras4</td><td>Back András</td><td>1984-04-07</td><td>2016-09-17</td><td>2017-01-09</td></tr>",
                            "<tr><td>andras41</td><td>Komjáti András</td><td>1997-10-25</td><td>2016-05-14</td><td>2016-11-23</td></tr>",
                            "<tr><td>ANDRASE</td><td>Erdei András</td><td>1997-05-29</td><td>2016-04-24</td><td>2016-11-29</td></tr>",
                            "<tr><td>ANDRASN</td><td>Nagy András</td><td>1980-09-05</td><td>2016-11-25</td><td>2016-11-25</td></tr>",
                            "<tr><td>andrea</td><td>Kiss Andrea</td><td>1993-03-25</td><td>2016-07-27</td><td>2017-02-09</td></tr>",
                            "<tr><td>andrea3</td><td>Szomor Andrea</td><td>1996-05-10</td><td>2016-11-19</td><td>2016-11-19</td></tr>",
                            "<tr><td>andrea4</td><td>Neizer Andrea</td><td>1981-05-17</td><td>2016-05-27</td><td>2017-01-22</td></tr>",
                            "<tr><td>ANDREAT</td><td>Tornyos Andrea</td><td>1986-11-14</td><td>2016-07-27</td><td>2016-10-08</td></tr>",
                            "<tr><td>anett3</td><td>Pivarcsi Anett</td><td>1967-01-03</td><td>2016-04-10</td><td>2016-10-16</td></tr>",
                            "<tr><td>aniko</td><td>Tóth Anikó</td><td>1973-06-03</td><td>2016-06-25</td><td>2017-02-23</td></tr>",
                            "<tr><td>aniko4</td><td>Böröcz Anikó</td><td>1978-03-26</td><td>2016-07-02</td><td>2016-10-16</td></tr>",
                            "<tr><td>ANIKOS</td><td>Simon Anikó</td><td>1988-12-14</td><td>2016-04-19</td><td>2016-11-10</td></tr>",
                            "<tr><td>anita</td><td>Hamvay-Kovács Anita</td><td>1971-03-20</td><td>2016-09-28</td><td>2017-02-20</td></tr>",
                            "<tr><td>annamaria1</td><td>Szűcs Annamária</td><td>1990-04-27</td><td>2016-06-06</td><td>2017-01-30</td></tr>",
                            "<tr><td>ANNAMARIAR</td><td>Regős Annamária</td><td>1977-09-26</td><td>2016-06-08</td><td>2017-02-16</td></tr>",
                            "<tr><td>aron2</td><td>Jakab Áron</td><td>1971-04-26</td><td>2016-04-11</td><td>2017-02-26</td></tr>",
                            "<tr><td>ARONK</td><td>Kelemen Áron</td><td>1989-08-10</td><td>2016-04-06</td><td>2017-02-21</td></tr>",
                            "<tr><td>arpad2</td><td>Ötvös Árpád</td><td>1990-06-08</td><td>2016-06-05</td><td>2017-02-18</td></tr>",
                            "<tr><td>ARPADH</td><td>Horváth Árpád</td><td>1990-05-18</td><td>2016-06-06</td><td>2017-02-16</td></tr>",
                            "<tr><td>ARPADM</td><td>Móricz Árpád</td><td>1986-04-20</td><td>2016-05-29</td><td>2017-02-12</td></tr>",
                            "<tr><td>attila</td><td>Csóti Attila</td><td>1979-12-25</td><td>2016-09-30</td><td>2016-12-22</td></tr>",
                            "<tr><td>attila1</td><td>Gulyás Attila</td><td>1982-08-16</td><td>2016-05-20</td><td>2017-01-23</td></tr>",
                            "<tr><td>attila4</td><td>Baróti Attila</td><td>1975-11-06</td><td>2016-08-18</td><td>2017-02-15</td></tr>",
                            "<tr><td>ATTILAO</td><td>Opra Attila</td><td>1995-05-08</td><td>2016-05-21</td><td>2017-02-22</td></tr>",
                            "<tr><td>balazs1</td><td>Bozsik Balázs</td><td>1992-11-03</td><td>2016-05-07</td><td>2017-02-12</td></tr>",
                            "<tr><td>balazs2</td><td>Szűcs Balázs</td><td>1984-10-31</td><td>2016-04-16</td><td>2017-02-27</td></tr>",
                            "<tr><td>balazs3</td><td>Bakódy Balázs</td><td>1986-09-09</td><td>2016-07-17</td><td>2017-01-20</td></tr>",
                            "<tr><td>balint</td><td>Horváth Bálint</td><td>1996-03-17</td><td>2016-04-22</td><td>2016-11-24</td></tr>",
                            "<tr><td>balint1</td><td>Molnár Bálint</td><td>1989-08-24</td><td>2016-06-07</td><td>2017-01-03</td></tr>",
                            "<tr><td>balint2</td><td>Vukasinovity Bálint</td><td>1997-09-03</td><td>2016-07-21</td><td>2016-12-04</td></tr>",
                            "<tr><td>balu</td><td>Endresz Bálint</td><td>1976-08-01</td><td>2016-08-06</td><td>2016-12-22</td></tr>",
                            "<tr><td>beata4</td><td>Bagi Beáta</td><td>1994-03-19</td><td>2016-04-20</td><td>2016-10-03</td></tr>",
                            "<tr><td>BEATRIXK</td><td>Kerényi Beatrix</td><td>1972-04-06</td><td>2016-06-10</td><td>2017-02-08</td></tr>",
                            "<tr><td>BEATRIXS</td><td>Szekendi Beatrix</td><td>1981-04-06</td><td>2016-04-18</td><td>2017-02-03</td></tr>",
                            "<tr><td>BELAF</td><td>Farkas Béla</td><td>1995-02-24</td><td>2016-07-27</td><td>2016-12-06</td></tr>",
                            "<tr><td>bence</td><td>Győrffy Bence</td><td>1987-07-09</td><td>2016-05-08</td><td>2017-02-05</td></tr>",
                            "<tr><td>BENCEB</td><td>Bajusz Bence</td><td>1973-06-21</td><td>2016-05-14</td><td>2017-02-12</td></tr>",
                            "<tr><td>bernadett1</td><td>Simon Bernadett</td><td>1984-10-13</td><td>2016-06-12</td><td>2017-02-24</td></tr>",
                            "<tr><td>bernadett2</td><td>Kovács Bernadett</td><td>1996-08-20</td><td>2016-05-01</td><td>2017-01-24</td></tr>",
                            "<tr><td>BERNADETTO</td><td>Orbán Bernadett</td><td>1987-12-07</td><td>2016-04-10</td><td>2017-01-28</td></tr>",
                            "<tr><td>bertalan</td><td>Csiger Bertalan</td><td>1977-10-15</td><td>2016-05-18</td><td>2017-02-20</td></tr>",
                            "<tr><td>brigitta</td><td>Székely Brigitta</td><td>1978-09-13</td><td>2016-05-30</td><td>2017-01-23</td></tr>",
                            "<tr><td>brigitta3</td><td>Pataki Brigitta</td><td>1991-05-23</td><td>2016-06-01</td><td>2017-02-09</td></tr>",
                            "<tr><td>csongor3</td><td>Nagymihály Csongor</td><td>1984-03-05</td><td>2016-05-01</td><td>2017-02-13</td></tr>",
                            "<tr><td>dani</td><td>Vörös Dániel</td><td>1986-10-14</td><td>2016-06-06</td><td>2017-02-25</td></tr>",
                            "<tr><td>daniel</td><td>Rácz Dániel</td><td>1978-11-28</td><td>2016-04-10</td><td>2017-02-20</td></tr>",
                            "<tr><td>daniel1</td><td>Keszler Dániel</td><td>1969-07-16</td><td>2016-04-10</td><td>2017-03-01</td></tr>",
                            "<tr><td>david</td><td>Ambrus Dávid</td><td>1974-02-11</td><td>2016-05-18</td><td>2017-01-18</td></tr>",
                            "<tr><td>david1</td><td>Sobják Dávid</td><td>1970-08-16</td><td>2016-09-20</td><td>2017-02-25</td></tr>",
                            "<tr><td>david4</td><td>Berta Dávid</td><td>1990-10-08</td><td>2017-02-16</td><td>2017-02-16</td></tr>",
                            "<tr><td>debora</td><td>Barna Debóra</td><td>1976-10-14</td><td>2016-06-22</td><td>2017-02-04</td></tr>",
                            "<tr><td>denes</td><td>Tömböly Dénes</td><td>1975-03-14</td><td>2016-05-27</td><td>2016-11-06</td></tr>",
                            "<tr><td>dora3</td><td>Sarodi Dóra</td><td>1995-05-18</td><td>2016-08-16</td><td>2016-11-22</td></tr>",
                            "<tr><td>edit</td><td>Bittmann Edit</td><td>1984-04-20</td><td>2016-07-14</td><td>2017-02-08</td></tr>",
                            "<tr><td>emese</td><td>Kuruc Emese</td><td>1989-08-10</td><td>2016-07-22</td><td>2017-01-30</td></tr>",
                            "<tr><td>eszter</td><td>Molnár Eszter</td><td>1987-05-10</td><td>2016-08-12</td><td>2016-12-23</td></tr>",
                            "<tr><td>eszter2</td><td>Balogh Eszter</td><td>1998-01-31</td><td>2016-06-30</td><td>2016-12-29</td></tr>",
                            "<tr><td>eszter4</td><td>Fülöp Eszter</td><td>1993-06-28</td><td>2017-01-05</td><td>2017-02-26</td></tr>",
                            "<tr><td>ESZTERE</td><td>Érsek Eszter</td><td>1978-08-28</td><td>2016-05-30</td><td>2017-02-10</td></tr>",
                            "<tr><td>eva</td><td>Enyedi Éva</td><td>1967-06-30</td><td>2016-10-06</td><td>2017-01-14</td></tr>",
                            "<tr><td>eva2</td><td>Perlinger Éva</td><td>1971-08-19</td><td>2016-09-02</td><td>2017-01-06</td></tr>",
                            "<tr><td>EVAV</td><td>Viktor Éva</td><td>1980-12-26</td><td>2016-05-01</td><td>2017-02-04</td></tr>",
                            "<tr><td>ferenc1</td><td>Orosz Ferenc</td><td>1983-10-08</td><td>2016-05-08</td><td>2016-11-07</td></tr>",
                            "<tr><td>fruzsina4</td><td>Frank Fruzsina</td><td>1996-08-16</td><td>2016-06-02</td><td>2017-01-22</td></tr>",
                            "<tr><td>gabor1</td><td>Köves Gábor</td><td>1973-07-15</td><td>2016-06-20</td><td>2016-11-19</td></tr>",
                            "<tr><td>gabor4</td><td>Telek Gábor</td><td>1987-03-15</td><td>2016-04-26</td><td>2016-11-07</td></tr>",
                            "<tr><td>gabriella1</td><td>Nagy Gabriella</td><td>1982-11-01</td><td>2016-04-21</td><td>2017-02-21</td></tr>",
                            "<tr><td>gabriella10</td><td>Vida Gabriella</td><td>1969-06-18</td><td>2016-10-01</td><td>2016-10-01</td></tr>",
                            "<tr><td>georgij</td><td>Nyíri Georgij</td><td>1983-02-23</td><td>2016-06-16</td><td>2016-09-18</td></tr>",
                            "<tr><td>gusztav</td><td>Bárci Gusztáv</td><td>1967-02-25</td><td>2016-05-06</td><td>2017-02-23</td></tr>",
                            "<tr><td>GYONGYIK</td><td>Kornseé Gyöngyi</td><td>1974-06-07</td><td>2016-06-02</td><td>2017-01-22</td></tr>",
                            "<tr><td>GYORGYO</td><td>Oroszi György</td><td>1980-03-23</td><td>2016-05-27</td><td>2017-02-24</td></tr>",
                            "<tr><td>henrik3</td><td>Nádudvari Henrik</td><td>1986-12-05</td><td>2016-08-24</td><td>2017-01-27</td></tr>",
                            "<tr><td>IBOLYAA</td><td>Andor Ibolya</td><td>1983-11-27</td><td>2016-08-29</td><td>2017-01-17</td></tr>",
                            "<tr><td>ilona3</td><td>Bosnyák Ilona</td><td>1990-08-06</td><td>2016-07-31</td><td>2016-12-25</td></tr>",
                            "<tr><td>imre</td><td>Búza Imre</td><td>1988-09-30</td><td>2016-09-17</td><td>2016-10-28</td></tr>",
                            "<tr><td>imre1</td><td>Papp Imre</td><td>1976-06-25</td><td>2016-06-23</td><td>2017-02-05</td></tr>",
                            "<tr><td>istvan</td><td>Soós István</td><td>1986-06-28</td><td>2016-10-07</td><td>2017-01-02</td></tr>",
                            "<tr><td>istvan1</td><td>Vizi István</td><td>1997-12-01</td><td>2016-04-16</td><td>2017-02-07</td></tr>",
                            "<tr><td>ISTVANV</td><td>Varga István</td><td>1989-04-09</td><td>2016-07-01</td><td>2016-09-29</td></tr>",
                            "<tr><td>janos3</td><td>Harangozó János</td><td>1967-11-02</td><td>2016-06-04</td><td>2017-02-12</td></tr>",
                            "<tr><td>JANOSG</td><td>Giliga János</td><td>1975-01-03</td><td>2016-05-09</td><td>2017-01-31</td></tr>",
                            "<tr><td>JANOSP</td><td>Pálinkás János</td><td>1984-10-12</td><td>2016-07-04</td><td>2016-12-18</td></tr>",
                            "<tr><td>jozsef</td><td>Gergely József</td><td>1985-11-01</td><td>2016-09-13</td><td>2016-12-06</td></tr>",
                            "<tr><td>jozsef2</td><td>Vajda József</td><td>1978-09-04</td><td>2016-07-06</td><td>2016-11-25</td></tr>",
                            "<tr><td>JOZSEFG</td><td>Gyuris József</td><td>1975-05-26</td><td>2016-05-02</td><td>2017-02-24</td></tr>",
                            "<tr><td>JUDITH</td><td>Hídasi Judit</td><td>1997-07-12</td><td>2016-06-06</td><td>2016-12-19</td></tr>",
                            "<tr><td>julia</td><td>Tóth Júlia</td><td>1993-03-02</td><td>2016-04-21</td><td>2017-02-27</td></tr>",
                            "<tr><td>julia4</td><td>Nagy Júlia</td><td>1985-08-11</td><td>2016-11-07</td><td>2017-02-04</td></tr>",
                            "<tr><td>julianna4</td><td>Szabó Julianna</td><td>1990-09-29</td><td>2016-07-20</td><td>2016-11-27</td></tr>",
                            "<tr><td>kata</td><td>Gondos Katalin</td><td>1968-06-22</td><td>2016-04-10</td><td>2017-01-15</td></tr>",
                            "<tr><td>katalin</td><td>Horváth Katalin</td><td>1968-01-01</td><td>2016-04-10</td><td>2017-02-24</td></tr>",
                            "<tr><td>katalin4</td><td>Kertész Katalin</td><td>1986-04-13</td><td>2016-07-01</td><td>2017-01-24</td></tr>",
                            "<tr><td>kati</td><td>Zatykó Katalin</td><td>1995-05-01</td><td>2016-06-06</td><td>2016-10-30</td></tr>",
                            "<tr><td>katka</td><td>Kovács Katalin</td><td>1975-03-31</td><td>2016-04-10</td><td>2017-01-19</td></tr>",
                            "<tr><td>klaudia2</td><td>Bakó Klaudia</td><td>1982-04-16</td><td>2016-06-06</td><td>2016-10-02</td></tr>",
                            "<tr><td>kornel4</td><td>Lukács Kornél</td><td>1975-09-30</td><td>2016-05-08</td><td>2016-09-23</td></tr>",
                            "<tr><td>kristof4</td><td>Poprádi Kristóf</td><td>1984-01-15</td><td>2016-04-08</td><td>2016-09-30</td></tr>",
                            "<tr><td>kriszti</td><td>Horváth Krisztina</td><td>1978-06-12</td><td>2016-05-19</td><td>2017-03-03</td></tr>",
                            "<tr><td>krisztian4</td><td>Czérna Krisztián</td><td>1970-08-01</td><td>2016-06-03</td><td>2017-02-23</td></tr>",
                            "<tr><td>KRISZTIANM</td><td>Mogyródi Krisztián</td><td>1968-05-27</td><td>2016-04-09</td><td>2017-01-16</td></tr>",
                            "<tr><td>krisztina</td><td>Szedlár Krisztina</td><td>1979-05-10</td><td>2016-05-21</td><td>2017-02-16</td></tr>",
                            "<tr><td>krisztina1</td><td>Bori Krisztina</td><td>1969-10-13</td><td>2016-04-28</td><td>2017-01-21</td></tr>",
                            "<tr><td>KRISZTINAG</td><td>Gyárfás Krisztina</td><td>1987-09-19</td><td>2016-04-23</td><td>2017-01-25</td></tr>",
                            "<tr><td>lajos</td><td>Kiss Lajos</td><td>1978-10-31</td><td>2016-07-18</td><td>2017-02-12</td></tr>",
                            "<tr><td>lala</td><td>Nagymihály Lajos</td><td>1997-02-24</td><td>2016-06-16</td><td>2017-01-17</td></tr>",
                            "<tr><td>laszlo1</td><td>Farkas László</td><td>1967-10-30</td><td>2016-09-23</td><td>2016-09-23</td></tr>",
                            "<tr><td>laszlo2</td><td>Móra László</td><td>1975-02-19</td><td>2016-04-06</td><td>2016-11-25</td></tr>",
                            "<tr><td>LASZLOA</td><td>Antal László</td><td>1969-06-29</td><td>2016-06-03</td><td>2017-02-08</td></tr>",
                            "<tr><td>LASZLON</td><td>Nagy László</td><td>1969-04-12</td><td>2016-06-03</td><td>2017-02-18</td></tr>",
                            "<tr><td>maria1</td><td>Baráth Mária</td><td>1995-11-19</td><td>2016-05-13</td><td>2017-02-24</td></tr>",
                            "<tr><td>mark</td><td>Kispál Márk</td><td>1996-01-23</td><td>2016-04-19</td><td>2016-11-19</td></tr>",
                            "<tr><td>MARKH</td><td>Horváth Márk</td><td>1997-09-23</td><td>2016-09-14</td><td>2017-01-22</td></tr>",
                            "<tr><td>marton</td><td>Kalacsi Márton</td><td>1989-06-24</td><td>2016-04-27</td><td>2017-03-02</td></tr>",
                            "<tr><td>MATEK</td><td>Koza Máté</td><td>1997-02-28</td><td>2016-08-17</td><td>2017-01-16</td></tr>",
                            "<tr><td>matyas2</td><td>Botka Mátyás</td><td>1972-07-07</td><td>2016-07-13</td><td>2016-12-09</td></tr>",
                            "<tr><td>MATYASS</td><td>Szilágyi Mátyás</td><td>1975-03-22</td><td>2016-05-10</td><td>2017-01-09</td></tr>",
                            "<tr><td>MIHALYJ</td><td>Juhász Mihály</td><td>1979-10-12</td><td>2016-05-30</td><td>2017-02-06</td></tr>",
                            "<tr><td>miklos2</td><td>Gondos Miklós</td><td>1995-10-07</td><td>2016-04-19</td><td>2016-11-16</td></tr>",
                            "<tr><td>MIKLOSB</td><td>Balla Miklós</td><td>1979-02-16</td><td>2016-06-26</td><td>2016-12-05</td></tr>",
                            "<tr><td>MONIKAM</td><td>Mohos Mónika</td><td>1974-10-01</td><td>2016-04-29</td><td>2017-02-23</td></tr>",
                            "<tr><td>NANDORF</td><td>Fő Nándor</td><td>1968-11-12</td><td>2016-04-06</td><td>2017-02-05</td></tr>",
                            "<tr><td>nikolett3</td><td>Horváth Nikolett</td><td>1981-09-29</td><td>2016-05-24</td><td>2016-10-22</td></tr>",
                            "<tr><td>nikoletta4</td><td>Kő Nikoletta</td><td>1972-01-10</td><td>2016-04-08</td><td>2017-02-01</td></tr>",
                            "<tr><td>NIKOLETTAT</td><td>Tatár Nikoletta</td><td>1997-10-19</td><td>2016-05-22</td><td>2016-09-21</td></tr>",
                            "<tr><td>norbert</td><td>Szűcs Norbert</td><td>1969-07-17</td><td>2016-07-08</td><td>2017-02-26</td></tr>",
                            "<tr><td>norbert2</td><td>Hegedűs Norbert</td><td>1991-07-17</td><td>2016-04-19</td><td>2017-01-29</td></tr>",
                            "<tr><td>norbert4</td><td>Mile Norbert</td><td>1983-06-15</td><td>2016-04-10</td><td>2017-03-03</td></tr>",
                            "<tr><td>norbert5</td><td>Béres Norbert</td><td>1975-07-27</td><td>2016-06-24</td><td>2016-11-05</td></tr>",
                            "<tr><td>pal</td><td>Barabás Pál</td><td>1968-02-06</td><td>2016-08-14</td><td>2017-02-20</td></tr>",
                            "<tr><td>peter1</td><td>Kozma Péter</td><td>1976-03-18</td><td>2016-07-14</td><td>2017-02-28</td></tr>",
                            "<tr><td>peter2</td><td>Bozsó Péter</td><td>1976-01-26</td><td>2016-07-03</td><td>2016-11-15</td></tr>",
                            "<tr><td>peter3</td><td>Szalai Péter</td><td>1983-07-18</td><td>2016-06-30</td><td>2017-02-21</td></tr>",
                            "<tr><td>peter4</td><td>Bíró Péter</td><td>1985-09-01</td><td>2016-04-12</td><td>2017-02-05</td></tr>",
                            "<tr><td>PETERB</td><td>Berendi Péter</td><td>1969-01-01</td><td>2016-04-06</td><td>2016-11-17</td></tr>",
                            "<tr><td>polla</td><td>Palágyi Polla</td><td>1994-02-04</td><td>2016-04-17</td><td>2017-02-11</td></tr>",
                            "<tr><td>rajmond4</td><td>Rácz Rajmond</td><td>1993-09-25</td><td>2016-09-05</td><td>2016-11-16</td></tr>",
                            "<tr><td>reka4</td><td>Szikszai Réka</td><td>1969-11-27</td><td>2016-07-27</td><td>2017-02-26</td></tr>",
                            "<tr><td>RENATAK</td><td>Kardos Renáta</td><td>1988-05-17</td><td>2016-10-27</td><td>2017-03-01</td></tr>",
                            "<tr><td>RENATAS</td><td>Szirmai Renáta</td><td>1991-03-26</td><td>2016-05-04</td><td>2017-02-14</td></tr>",
                            "<tr><td>robert2</td><td>Patay Róbert</td><td>1977-01-08</td><td>2016-05-15</td><td>2016-12-17</td></tr>",
                            "<tr><td>ROBERTI</td><td>Iván Róbert</td><td>1967-07-02</td><td>2016-07-12</td><td>2017-02-17</td></tr>",
                            "<tr><td>ROBERTP</td><td>Pásztor Róbert</td><td>1972-05-16</td><td>2016-07-30</td><td>2016-09-08</td></tr>",
                            "<tr><td>roland</td><td>Tóth Roland</td><td>1968-03-21</td><td>2016-06-09</td><td>2016-11-19</td></tr>",
                            "<tr><td>roland1</td><td>Ferencz Roland</td><td>1985-12-31</td><td>2016-11-05</td><td>2017-01-16</td></tr>",
                            "<tr><td>roza2</td><td>Bucskó Róza</td><td>1988-12-26</td><td>2016-09-10</td><td>2017-02-18</td></tr>",
                            "<tr><td>sandor</td><td>Karasz Sándor</td><td>1970-01-27</td><td>2016-07-04</td><td>2016-09-19</td></tr>",
                            "<tr><td>sandor3</td><td>Farkas Sándor</td><td>1989-01-27</td><td>2016-05-12</td><td>2016-11-10</td></tr>",
                            "<tr><td>sandor4</td><td>Nagy Sándor</td><td>1997-06-11</td><td>2016-10-15</td><td>2017-01-22</td></tr>",
                            "<tr><td>sara</td><td>Farkas Sára</td><td>1973-04-05</td><td>2016-05-28</td><td>2016-12-25</td></tr>",
                            "<tr><td>SEBASTIANF</td><td>Foltényi Sebastián</td><td>1992-09-09</td><td>2016-04-06</td><td>2016-09-17</td></tr>",
                            "<tr><td>sebestyen</td><td>Rab Sebestyén</td><td>1992-03-03</td><td>2016-04-07</td><td>2016-10-26</td></tr>",
                            "<tr><td>szabolcs</td><td>Bodor Szabolcs</td><td>1990-07-16</td><td>2016-12-05</td><td>2016-12-05</td></tr>",
                            "<tr><td>SZABOLCSM</td><td>Miklós Szabolcs</td><td>1980-08-11</td><td>2016-06-18</td><td>2017-02-04</td></tr>",
                            "<tr><td>SZILARDS</td><td>Szalai Szilárd</td><td>1967-09-28</td><td>2016-04-23</td><td>2017-02-08</td></tr>",
                            "<tr><td>szilvia1</td><td>Tari Szilvia</td><td>1971-03-09</td><td>2016-05-14</td><td>2017-01-28</td></tr>",
                            "<tr><td>tamara2</td><td>Miklós Tamara</td><td>1980-08-11</td><td>2016-08-12</td><td>2016-11-15</td></tr>",
                            "<tr><td>tamas</td><td>Antal Tamás</td><td>1984-09-05</td><td>2016-05-17</td><td>2017-02-14</td></tr>",
                            "<tr><td>TAMASF</td><td>Fényes Tamás</td><td>1997-11-06</td><td>2016-05-03</td><td>2017-02-16</td></tr>",
                            "<tr><td>tibor</td><td>Gombos Tibor</td><td>1993-11-28</td><td>2016-10-09</td><td>2016-11-05</td></tr>",
                            "<tr><td>tibor2</td><td>Dániel Tibor</td><td>1985-02-02</td><td>2016-10-20</td><td>2016-10-20</td></tr>",
                            "<tr><td>tihamer</td><td>Kazy Tihamér</td><td>1991-07-05</td><td>2016-05-30</td><td>2016-12-25</td></tr>",
                            "<tr><td>timea</td><td>Papós Tímea</td><td>1996-01-08</td><td>2016-12-26</td><td>2016-12-26</td></tr>",
                            "<tr><td>timea2</td><td>Dusha Tímea</td><td>1975-08-22</td><td>2016-06-06</td><td>2016-12-14</td></tr>",
                            "<tr><td>tunde</td><td>Turcsik Tünde</td><td>1974-02-12</td><td>2016-06-03</td><td>2017-01-03</td></tr>",
                            "<tr><td>valentin</td><td>Feró Valentin</td><td>1986-01-09</td><td>2016-05-24</td><td>2016-12-01</td></tr>",
                            "<tr><td>veronika4</td><td>Tankó Veronika</td><td>1983-08-28</td><td>2016-05-30</td><td>2017-02-03</td></tr>",
                            "<tr><td>VIKTORIAU</td><td>Urbán Viktoria</td><td>1996-05-03</td><td>2016-04-30</td><td>2016-10-26</td></tr>",
                            "<tr><td>VIKTORK</td><td>Keresztúri Viktor</td><td>1989-05-05</td><td>2016-05-30</td><td>2016-06-06</td></tr>",
                            "<tr><td>vivien3</td><td>Boros Vivien</td><td>1991-07-01</td><td>2016-05-02</td><td>2016-12-24</td></tr>",
                            "<tr><td>zoltan</td><td>Fodor Zoltán</td><td>1979-11-25</td><td>2016-08-24</td><td>2016-09-05</td></tr>",
                            "<tr><td>zoltan4</td><td>Barna Zoltán</td><td>1986-05-20</td><td>2016-05-12</td><td>2017-01-01</td></tr>",
                            "<tr><td>ZOLTANP</td><td>Pintér Zoltán</td><td>1977-06-07</td><td>2016-06-05</td><td>2016-12-25</td></tr>",
                            "<tr><td>ZOLTANT</td><td>Tóth Zoltán</td><td>1985-12-14</td><td>2016-05-01</td><td>2017-01-16</td></tr>",
                            "<tr><td>zsofi1</td><td>Molnár Zsófi</td><td>1983-11-17</td><td>2016-06-16</td><td>2017-02-18</td></tr>",
                            "<tr><td>zsolt1</td><td>Pulai Zsolt</td><td>1988-05-27</td><td>2016-04-14</td><td>2016-07-31</td></tr>",
                            "<tr><td>ZSOLTJ</td><td>Józsa Zsolt</td><td>1983-09-29</td><td>2016-04-24</td><td>2016-10-01</td></tr>",
                            "<tr><td>zsuzsa</td><td>Pusztai Zsuzsanna</td><td>1980-09-17</td><td>2016-07-24</td><td>2016-11-28</td></tr>",
                            "<tr><td>zsuzsa3</td><td>Varsányi Zsuzsa</td><td>1979-03-06</td><td>2016-07-30</td><td>2016-10-27</td></tr>",
                            "<tr><td>zsuzsanna</td><td>Barta Zsuzsanna</td><td>1994-10-07</td><td>2016-05-17</td><td>2017-01-16</td></tr>",
                            "<tr><td>ZSUZSAV</td><td>Vajda Zsuzsa</td><td>1976-12-11</td><td>2016-04-14</td><td>2016-11-21</td></tr>",
                            "</table>"
                        ]
                    }
                }
            ],
            "execution_count": 14
        },
        {
            "cell_type": "markdown",
            "source": [
                "Készítsen lekérdezést, amely megjeleníti, hogy szálláshelyenként, azon belül a pótágyak száma szerint hány főre foglaltak összesen (felnőtt + gyermek)!\n",
                "\n",
                "- Jelenjenek meg a részösszegek és a végösszeg is!"
            ],
            "metadata": {
                "language": "sql",
                "azdata_cell_guid": "0762ff9e-e99e-45ad-93ab-539299c5c0cc"
            },
            "attachments": {}
        },
        {
            "cell_type": "code",
            "source": [
                "SELECT IIF((szh.SZALLAS_NEV) is null, 'Végösszeg', CAST(szh.SZALLAS_NEV AS NVARCHAR(50))) AS 'Szálláshely',\r\n",
                "    CASE GROUPING_ID(szh.SZALLAS_NEV, sz.POTAGY)\r\n",
                "        WHEN 0 THEN CAST(sz.POTAGY AS NVARCHAR(10))\r\n",
                "        WHEN 1 THEN 'Részösszeg'\r\n",
                "        WHEN 3 THEN 'Végösszeg'\r\n",
                "    END as 'Pótágyak (db)',\r\n",
                "    SUM(f.FELNOTT_SZAM + f.GYERMEK_SZAM) AS 'Felnőttek és gyerekek száma'\r\n",
                "FROM Foglalas f \r\n",
                "    JOIN Szoba sz ON f.SZOBA_FK = sz.SZOBA_ID\r\n",
                "    JOIN szallashely szh ON szh.SZALLAS_ID = sz.SZALLAS_FK\r\n",
                "GROUP BY ROLLUP(szh.SZALLAS_NEV, sz.POTAGY)"
            ],
            "metadata": {
                "language": "sql",
                "azdata_cell_guid": "cc2c5a81-81d5-44a9-8796-b7eb42318c99"
            },
            "outputs": [
                {
                    "output_type": "display_data",
                    "data": {
                        "text/html": "(41 rows affected)"
                    },
                    "metadata": {}
                },
                {
                    "output_type": "display_data",
                    "data": {
                        "text/html": "Total execution time: 00:00:00.068"
                    },
                    "metadata": {}
                },
                {
                    "output_type": "execute_result",
                    "metadata": {},
                    "execution_count": 25,
                    "data": {
                        "application/vnd.dataresource+json": {
                            "schema": {
                                "fields": [
                                    {
                                        "name": "Szálláshely"
                                    },
                                    {
                                        "name": "Pótágyak (db)"
                                    },
                                    {
                                        "name": "Felnőttek és gyerekek száma"
                                    }
                                ]
                            },
                            "data": [
                                {
                                    "Szálláshely": "Családi Ház",
                                    "Pótágyak (db)": "0",
                                    "Felnőttek és gyerekek száma": "10"
                                },
                                {
                                    "Szálláshely": "Családi Ház",
                                    "Pótágyak (db)": "1",
                                    "Felnőttek és gyerekek száma": "31"
                                },
                                {
                                    "Szálláshely": "Családi Ház",
                                    "Pótágyak (db)": "2",
                                    "Felnőttek és gyerekek száma": "11"
                                },
                                {
                                    "Szálláshely": "Családi Ház",
                                    "Pótágyak (db)": "Részösszeg",
                                    "Felnőttek és gyerekek száma": "52"
                                },
                                {
                                    "Szálláshely": "Fortuna Apartman",
                                    "Pótágyak (db)": "0",
                                    "Felnőttek és gyerekek száma": "18"
                                },
                                {
                                    "Szálláshely": "Fortuna Apartman",
                                    "Pótágyak (db)": "1",
                                    "Felnőttek és gyerekek száma": "52"
                                },
                                {
                                    "Szálláshely": "Fortuna Apartman",
                                    "Pótágyak (db)": "2",
                                    "Felnőttek és gyerekek száma": "36"
                                },
                                {
                                    "Szálláshely": "Fortuna Apartman",
                                    "Pótágyak (db)": "Részösszeg",
                                    "Felnőttek és gyerekek száma": "106"
                                },
                                {
                                    "Szálláshely": "Fortuna Panzió",
                                    "Pótágyak (db)": "0",
                                    "Felnőttek és gyerekek száma": "158"
                                },
                                {
                                    "Szálláshely": "Fortuna panzió",
                                    "Pótágyak (db)": "1",
                                    "Felnőttek és gyerekek száma": "113"
                                },
                                {
                                    "Szálláshely": "Fortuna panzió",
                                    "Pótágyak (db)": "2",
                                    "Felnőttek és gyerekek száma": "40"
                                },
                                {
                                    "Szálláshely": "Fortuna Panzió",
                                    "Pótágyak (db)": "Részösszeg",
                                    "Felnőttek és gyerekek száma": "311"
                                },
                                {
                                    "Szálláshely": "Gold Hotel",
                                    "Pótágyak (db)": "0",
                                    "Felnőttek és gyerekek száma": "216"
                                },
                                {
                                    "Szálláshely": "Gold Hotel",
                                    "Pótágyak (db)": "1",
                                    "Felnőttek és gyerekek száma": "93"
                                },
                                {
                                    "Szálláshely": "Gold Hotel",
                                    "Pótágyak (db)": "2",
                                    "Felnőttek és gyerekek száma": "119"
                                },
                                {
                                    "Szálláshely": "Gold Hotel",
                                    "Pótágyak (db)": "Részösszeg",
                                    "Felnőttek és gyerekek száma": "428"
                                },
                                {
                                    "Szálláshely": "Hotel Három Hattyú",
                                    "Pótágyak (db)": "0",
                                    "Felnőttek és gyerekek száma": "183"
                                },
                                {
                                    "Szálláshely": "Hotel Három Hattyú",
                                    "Pótágyak (db)": "1",
                                    "Felnőttek és gyerekek száma": "258"
                                },
                                {
                                    "Szálláshely": "Hotel Három Hattyú",
                                    "Pótágyak (db)": "2",
                                    "Felnőttek és gyerekek száma": "63"
                                },
                                {
                                    "Szálláshely": "Hotel Három Hattyú",
                                    "Pótágyak (db)": "Részösszeg",
                                    "Felnőttek és gyerekek száma": "504"
                                },
                                {
                                    "Szálláshely": "Jáde panzió",
                                    "Pótágyak (db)": "0",
                                    "Felnőttek és gyerekek száma": "66"
                                },
                                {
                                    "Szálláshely": "Jáde panzió",
                                    "Pótágyak (db)": "Részösszeg",
                                    "Felnőttek és gyerekek száma": "66"
                                },
                                {
                                    "Szálláshely": "Kentaur Hotel",
                                    "Pótágyak (db)": "0",
                                    "Felnőttek és gyerekek száma": "168"
                                },
                                {
                                    "Szálláshely": "Kentaur Hotel",
                                    "Pótágyak (db)": "1",
                                    "Felnőttek és gyerekek száma": "224"
                                },
                                {
                                    "Szálláshely": "Kentaur Hotel",
                                    "Pótágyak (db)": "2",
                                    "Felnőttek és gyerekek száma": "28"
                                },
                                {
                                    "Szálláshely": "Kentaur Hotel",
                                    "Pótágyak (db)": "Részösszeg",
                                    "Felnőttek és gyerekek száma": "420"
                                },
                                {
                                    "Szálláshely": "Lagúna Hotel",
                                    "Pótágyak (db)": "0",
                                    "Felnőttek és gyerekek száma": "105"
                                },
                                {
                                    "Szálláshely": "Lagúna Hotel",
                                    "Pótágyak (db)": "1",
                                    "Felnőttek és gyerekek száma": "150"
                                },
                                {
                                    "Szálláshely": "Lagúna Hotel",
                                    "Pótágyak (db)": "2",
                                    "Felnőttek és gyerekek száma": "36"
                                },
                                {
                                    "Szálláshely": "Lagúna Hotel",
                                    "Pótágyak (db)": "Részösszeg",
                                    "Felnőttek és gyerekek száma": "291"
                                },
                                {
                                    "Szálláshely": "Partiszél Vendégház",
                                    "Pótágyak (db)": "0",
                                    "Felnőttek és gyerekek száma": "31"
                                },
                                {
                                    "Szálláshely": "Partiszél Vendégház",
                                    "Pótágyak (db)": "1",
                                    "Felnőttek és gyerekek száma": "17"
                                },
                                {
                                    "Szálláshely": "Partiszél Vendégház",
                                    "Pótágyak (db)": "2",
                                    "Felnőttek és gyerekek száma": "15"
                                },
                                {
                                    "Szálláshely": "Partiszél Vendégház",
                                    "Pótágyak (db)": "Részösszeg",
                                    "Felnőttek és gyerekek száma": "63"
                                },
                                {
                                    "Szálláshely": "Sába-Ház",
                                    "Pótágyak (db)": "0",
                                    "Felnőttek és gyerekek száma": "67"
                                },
                                {
                                    "Szálláshely": "Sába-Ház",
                                    "Pótágyak (db)": "1",
                                    "Felnőttek és gyerekek száma": "99"
                                },
                                {
                                    "Szálláshely": "Sába-Ház",
                                    "Pótágyak (db)": "Részösszeg",
                                    "Felnőttek és gyerekek száma": "166"
                                },
                                {
                                    "Szálláshely": "Szieszta Apartmanház",
                                    "Pótágyak (db)": "0",
                                    "Felnőttek és gyerekek száma": "64"
                                },
                                {
                                    "Szálláshely": "Szieszta Apartmanház",
                                    "Pótágyak (db)": "1",
                                    "Felnőttek és gyerekek száma": "19"
                                },
                                {
                                    "Szálláshely": "Szieszta Apartmanház",
                                    "Pótágyak (db)": "Részösszeg",
                                    "Felnőttek és gyerekek száma": "83"
                                },
                                {
                                    "Szálláshely": "Végösszeg",
                                    "Pótágyak (db)": "Végösszeg",
                                    "Felnőttek és gyerekek száma": "2490"
                                }
                            ]
                        },
                        "text/html": [
                            "<table>",
                            "<tr><th>Szálláshely</th><th>Pótágyak (db)</th><th>Felnőttek és gyerekek száma</th></tr>",
                            "<tr><td>Családi Ház</td><td>0</td><td>10</td></tr>",
                            "<tr><td>Családi Ház</td><td>1</td><td>31</td></tr>",
                            "<tr><td>Családi Ház</td><td>2</td><td>11</td></tr>",
                            "<tr><td>Családi Ház</td><td>Részösszeg</td><td>52</td></tr>",
                            "<tr><td>Fortuna Apartman</td><td>0</td><td>18</td></tr>",
                            "<tr><td>Fortuna Apartman</td><td>1</td><td>52</td></tr>",
                            "<tr><td>Fortuna Apartman</td><td>2</td><td>36</td></tr>",
                            "<tr><td>Fortuna Apartman</td><td>Részösszeg</td><td>106</td></tr>",
                            "<tr><td>Fortuna Panzió</td><td>0</td><td>158</td></tr>",
                            "<tr><td>Fortuna panzió</td><td>1</td><td>113</td></tr>",
                            "<tr><td>Fortuna panzió</td><td>2</td><td>40</td></tr>",
                            "<tr><td>Fortuna Panzió</td><td>Részösszeg</td><td>311</td></tr>",
                            "<tr><td>Gold Hotel</td><td>0</td><td>216</td></tr>",
                            "<tr><td>Gold Hotel</td><td>1</td><td>93</td></tr>",
                            "<tr><td>Gold Hotel</td><td>2</td><td>119</td></tr>",
                            "<tr><td>Gold Hotel</td><td>Részösszeg</td><td>428</td></tr>",
                            "<tr><td>Hotel Három Hattyú</td><td>0</td><td>183</td></tr>",
                            "<tr><td>Hotel Három Hattyú</td><td>1</td><td>258</td></tr>",
                            "<tr><td>Hotel Három Hattyú</td><td>2</td><td>63</td></tr>",
                            "<tr><td>Hotel Három Hattyú</td><td>Részösszeg</td><td>504</td></tr>",
                            "<tr><td>Jáde panzió</td><td>0</td><td>66</td></tr>",
                            "<tr><td>Jáde panzió</td><td>Részösszeg</td><td>66</td></tr>",
                            "<tr><td>Kentaur Hotel</td><td>0</td><td>168</td></tr>",
                            "<tr><td>Kentaur Hotel</td><td>1</td><td>224</td></tr>",
                            "<tr><td>Kentaur Hotel</td><td>2</td><td>28</td></tr>",
                            "<tr><td>Kentaur Hotel</td><td>Részösszeg</td><td>420</td></tr>",
                            "<tr><td>Lagúna Hotel</td><td>0</td><td>105</td></tr>",
                            "<tr><td>Lagúna Hotel</td><td>1</td><td>150</td></tr>",
                            "<tr><td>Lagúna Hotel</td><td>2</td><td>36</td></tr>",
                            "<tr><td>Lagúna Hotel</td><td>Részösszeg</td><td>291</td></tr>",
                            "<tr><td>Partiszél Vendégház</td><td>0</td><td>31</td></tr>",
                            "<tr><td>Partiszél Vendégház</td><td>1</td><td>17</td></tr>",
                            "<tr><td>Partiszél Vendégház</td><td>2</td><td>15</td></tr>",
                            "<tr><td>Partiszél Vendégház</td><td>Részösszeg</td><td>63</td></tr>",
                            "<tr><td>Sába-Ház</td><td>0</td><td>67</td></tr>",
                            "<tr><td>Sába-Ház</td><td>1</td><td>99</td></tr>",
                            "<tr><td>Sába-Ház</td><td>Részösszeg</td><td>166</td></tr>",
                            "<tr><td>Szieszta Apartmanház</td><td>0</td><td>64</td></tr>",
                            "<tr><td>Szieszta Apartmanház</td><td>1</td><td>19</td></tr>",
                            "<tr><td>Szieszta Apartmanház</td><td>Részösszeg</td><td>83</td></tr>",
                            "<tr><td>Végösszeg</td><td>Végösszeg</td><td>2490</td></tr>",
                            "</table>"
                        ]
                    }
                }
            ],
            "execution_count": 25
        },
        {
            "cell_type": "markdown",
            "source": [
                "Készítsünk ideiglenes táblát #MASKED\\_GUEST néven, ahol \n",
                "\n",
                "- a tábla felépítése megegyezik a vendég tábláéval, DE\n",
                "- a vendégek nevének csak az első 2, és az utolsó 3 karaktere jelenjen meg, közötte X-ek legyenek!"
            ],
            "metadata": {
                "language": "sql",
                "azdata_cell_guid": "97ebaafd-5d7b-4d19-8800-b5cbd4482a34"
            },
            "attachments": {}
        },
        {
            "cell_type": "code",
            "source": [
                "CREATE TABLE #MASKED_GUEST(\r\n",
                "\t[USERNEV] [nvarchar](20) NOT NULL,\r\n",
                "\t[NEV] [nvarchar](50) masked with (function = 'partial(2,\"XXX\",3)'),\r\n",
                "\t[EMAIL] [nvarchar](60) NOT NULL,\r\n",
                "\t[SZAML_CIM] [nvarchar](100) NULL,\r\n",
                "\t[SZUL_DAT] [date] NULL\r\n",
                ") ON [PRIMARY]"
            ],
            "metadata": {
                "language": "sql",
                "azdata_cell_guid": "d3a98f24-e7d8-4c4f-917c-2f32c8e47c7c"
            },
            "outputs": [],
            "execution_count": null
        },
        {
            "cell_type": "markdown",
            "source": [
                "Oldja meg REDIS-ben a következő feladatokat:\n",
                "\n",
                "- hozzon létre egy string kulcsot, amely egy könyvtár nevét tartalmazza\n",
                "- hozzon létre egy hash kulcsot, amely egy könyv legalább 3 adatát tartalmazza\n",
                "- hozzon létre egy set kulcsot, amely a könyvtárban lévő könyvek műfajait tartalmazza (legalább 3)\n",
                "- hozzon létre egy list kulcsot, amely a kikölcsönzött könyvek címeit tartalmazza (legalább 3)\n",
                "- hozzon létre egy sorted set kulcsot, amely az adott könyvek címeit és a könyv kölcsönzéseinek számát tartalmazza (legalább 3)"
            ],
            "metadata": {
                "language": "sql",
                "azdata_cell_guid": "e10ed24a-6b3e-417a-8702-c9b49d3dd33d"
            },
            "attachments": {}
        },
        {
            "cell_type": "code",
            "source": [
                "HSET IRO:1 nev \"Kozma Zsófia Jázmin\" nemzetiseg \"Dunakeszi\"\r\n",
                "HSET IRO:2 nev \"Kovács Dorka Szeged\" nemzetiseg \"Szeged\"\r\n",
                "HSET KONYV:1 cim \"Múzsák énekei\" mufaj \"Komédia\" IRO_ID 1\r\n",
                "HSET KONYV:2 cim \"Szerelmes versek\" mufaj \"Dráma\" IRO_ID 2\r\n",
                ""
            ],
            "metadata": {
                "language": "sql",
                "azdata_cell_guid": "2426e1bc-6244-4236-889b-a2d3bba4cc4e"
            },
            "outputs": [],
            "execution_count": null
        },
        {
            "cell_type": "markdown",
            "source": [
                "Cassandra CQL Shellben hozza létre a következő táblát:\n",
                "\n",
                "STUDENT(ID, Nev, Teljesitett\\_felevek, Eredmenyek, Nyelvtudas)\n",
                "\n",
                "- Az ID legyen az elsődleges kulcs\n",
                "- A Teljesitett félévek legyen LIST, tartalma egész számok, pl: 1, 2, 3\n",
                "- Az Eredmenyek legyen MAP, tartalma, hogy melyik félévben mennyi volt az átlag, pl: 1: 3,00, 2: 4.55, 3: 4,10\n",
                "- A Nyelvtudas legyen SET, tartalma a nyelvek megnevezése\n",
                "\n",
                "Vigyen fel legalább 2 rekordot!"
            ],
            "metadata": {
                "language": "sql",
                "azdata_cell_guid": "0c64a5fa-4189-4800-af19-1c36720ecdfe"
            },
            "attachments": {}
        },
        {
            "cell_type": "code",
            "source": [
                "create table STUDENT(ID int, Nev varchar, Teljesitett_felevek LIST<int>, Eredmenyek MAP<int, float>, Nyelvtudas SET<text>, primary key(ID));\r\n",
                "\r\n",
                "INSERT INTO STUDENT (ID, Nev, Teljesitett_felevek, Eredmenyek, Nyelvtudas)\r\n",
                "VALUES\r\n",
                "(1, 'Kovács Laura', [1, 2, 3, 4], {1: 4.67, 2: 4.54,3: 3.96,4: 4.59}, {'német'});\r\n",
                " \r\n",
                "INSERT INTO STUDENT (ID, Nev, Teljesitett_felevek, Eredmenyek, Nyelvtudas)\r\n",
                "VALUES\r\n",
                "(2, 'Nagy Rita', [1, 2, 3], {1: 4.22, 2: 4.65, 3:3.89}, {'spanyol', 'nemet', 'orosz'});"
            ],
            "metadata": {
                "language": "sql",
                "azdata_cell_guid": "a8f59703-a4ca-42b0-92ad-de0b0ff56967"
            },
            "outputs": [],
            "execution_count": null
        },
        {
            "cell_type": "markdown",
            "source": [
                "A Neo4j Sandbox-ban vagy a Desktopban jelenítsük meg azon személyeket, akik egy filmben szerepeltek Tom Hanks-sel.\n",
                "\n",
                "- Egy szereplő neve csak egyszer jelenjen meg\n",
                "- Tom Hanks ne legyen benne a listában"
            ],
            "metadata": {
                "language": "sql",
                "azdata_cell_guid": "a8ec6ea7-d4c1-422a-81d0-e04cb7ccd1f5"
            },
            "attachments": {}
        },
        {
            "cell_type": "code",
            "source": [
                "MATCH (p1:Person {name: \"Tom Hanks\"})-[:ACTED_IN]->(movie:Movie)<-[:ACTED_IN]-(p2:Person)\r\n",
                "WHERE p2.name <> \"Tom Hanks\"\r\n",
                "RETURN DISTINCT p2.name"
            ],
            "metadata": {
                "language": "sql",
                "azdata_cell_guid": "58873443-3cba-4b4b-802c-7f203c2bdef1"
            },
            "outputs": [],
            "execution_count": null
        }
    ]
}