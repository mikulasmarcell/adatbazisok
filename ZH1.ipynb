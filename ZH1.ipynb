{
    "metadata": {
        "kernelspec": {
            "name": "SQL",
            "display_name": "SQL",
            "language": "sql"
        },
        "language_info": {
            "name": "sql",
            "version": ""
        }
    },
    "nbformat_minor": 2,
    "nbformat": 4,
    "cells": [
        {
            "cell_type": "markdown",
            "source": [
                "1\\. Feladat"
            ],
            "metadata": {
                "azdata_cell_guid": "0eefb1a5-7587-43c1-8f98-8c4dc3f1fc81"
            },
            "attachments": {}
        },
        {
            "cell_type": "code",
            "source": [
                "SELECT COUNT(FOGLALAS_PK) AS 'Foglalások száma'\r\n",
                "FROM Foglalas\r\n",
                "WHERE YEAR(METTOL) = YEAR(MEDDIG) AND NOT MONTH(METTOL)= MONTH(MEDDIG)\r\n",
                ""
            ],
            "metadata": {
                "azdata_cell_guid": "1a740a19-5f78-4438-80d8-c7fb32d4a8a7",
                "language": "sql"
            },
            "outputs": [
                {
                    "output_type": "display_data",
                    "data": {
                        "text/html": "(1 row affected)"
                    },
                    "metadata": {}
                },
                {
                    "output_type": "display_data",
                    "data": {
                        "text/html": "Total execution time: 00:00:00.007"
                    },
                    "metadata": {}
                },
                {
                    "output_type": "execute_result",
                    "metadata": {},
                    "execution_count": 7,
                    "data": {
                        "application/vnd.dataresource+json": {
                            "schema": {
                                "fields": [
                                    {
                                        "name": "Foglalások száma"
                                    }
                                ]
                            },
                            "data": [
                                {
                                    "Foglalások száma": "131"
                                }
                            ]
                        },
                        "text/html": [
                            "<table>",
                            "<tr><th>Foglalások száma</th></tr>",
                            "<tr><td>131</td></tr>",
                            "</table>"
                        ]
                    }
                }
            ],
            "execution_count": 7
        },
        {
            "cell_type": "markdown",
            "source": [
                "2\\. Feladat"
            ],
            "metadata": {
                "azdata_cell_guid": "a384e7cc-0b4f-4a9e-81a3-82919524b35f"
            },
            "attachments": {}
        },
        {
            "cell_type": "code",
            "source": [
                "SELECT szh.TIPUS,ROUND(COUNT(*),-2)\r\n",
                "FROM Foglalas f JOIN Szoba sz ON f.SZOBA_FK=sz.SZOBA_ID\r\n",
                "                JOIN Szallashely szh ON sz.SZALLAS_FK = szh.SZALLAS_ID\r\n",
                "GROUP BY szh.TIPUS \r\n",
                "HAVING ROUND(COUNT(*),-2) < 500"
            ],
            "metadata": {
                "azdata_cell_guid": "e1373935-ba5b-486e-b8f7-941e7e458004",
                "language": "sql"
            },
            "outputs": [
                {
                    "output_type": "display_data",
                    "data": {
                        "text/html": "(3 rows affected)"
                    },
                    "metadata": {}
                },
                {
                    "output_type": "display_data",
                    "data": {
                        "text/html": "Total execution time: 00:00:00.006"
                    },
                    "metadata": {}
                },
                {
                    "output_type": "execute_result",
                    "metadata": {},
                    "execution_count": 13,
                    "data": {
                        "application/vnd.dataresource+json": {
                            "schema": {
                                "fields": [
                                    {
                                        "name": "TIPUS"
                                    },
                                    {
                                        "name": "(No column name)"
                                    }
                                ]
                            },
                            "data": [
                                {
                                    "TIPUS": "Apartman",
                                    "(No column name)": "100"
                                },
                                {
                                    "TIPUS": "vendégház",
                                    "(No column name)": "100"
                                },
                                {
                                    "TIPUS": "panzió",
                                    "(No column name)": "200"
                                }
                            ]
                        },
                        "text/html": [
                            "<table>",
                            "<tr><th>TIPUS</th><th>(No column name)</th></tr>",
                            "<tr><td>Apartman</td><td>100</td></tr>",
                            "<tr><td>vendégház</td><td>100</td></tr>",
                            "<tr><td>panzió</td><td>200</td></tr>",
                            "</table>"
                        ]
                    }
                }
            ],
            "execution_count": 13
        },
        {
            "cell_type": "markdown",
            "source": [
                "3\\. Feladat"
            ],
            "metadata": {
                "azdata_cell_guid": "c53e0fe0-a2d3-4318-8199-9bc0f75d4857"
            },
            "attachments": {}
        },
        {
            "cell_type": "code",
            "source": [
                "SELECT sz.SZOBA_SZAMA,\r\n",
                "YEAR(METTOL),\r\n",
                "COUNT(*)\r\n",
                "FROM Foglalas f JOIN Szoba sz ON f.SZOBA_FK=sz.SZOBA_ID\r\n",
                "WHERE sz.SZOBA_SZAMA %2 = 1\r\n",
                "GROUP BY sz.SZOBA_SZAMA,YEAR(METTOL)\r\n",
                "HAVING count(*)>10\r\n",
                ""
            ],
            "metadata": {
                "azdata_cell_guid": "22e982e1-6750-4fd1-9b89-10f0fee7f7a5",
                "language": "sql"
            },
            "outputs": [
                {
                    "output_type": "display_data",
                    "data": {
                        "text/html": "(18 rows affected)"
                    },
                    "metadata": {}
                },
                {
                    "output_type": "display_data",
                    "data": {
                        "text/html": "Total execution time: 00:00:00.007"
                    },
                    "metadata": {}
                },
                {
                    "output_type": "execute_result",
                    "metadata": {},
                    "execution_count": 23,
                    "data": {
                        "application/vnd.dataresource+json": {
                            "schema": {
                                "fields": [
                                    {
                                        "name": "SZOBA_SZAMA"
                                    },
                                    {
                                        "name": "(No column name)"
                                    },
                                    {
                                        "name": "(No column name)"
                                    }
                                ]
                            },
                            "data": [
                                {
                                    "SZOBA_SZAMA": "1",
                                    "(No column name)": "52"
                                },
                                {
                                    "SZOBA_SZAMA": "11",
                                    "(No column name)": "22"
                                },
                                {
                                    "SZOBA_SZAMA": "13",
                                    "(No column name)": "14"
                                },
                                {
                                    "SZOBA_SZAMA": "15",
                                    "(No column name)": "16"
                                },
                                {
                                    "SZOBA_SZAMA": "17",
                                    "(No column name)": "16"
                                },
                                {
                                    "SZOBA_SZAMA": "19",
                                    "(No column name)": "14"
                                },
                                {
                                    "SZOBA_SZAMA": "21",
                                    "(No column name)": "29"
                                },
                                {
                                    "SZOBA_SZAMA": "23",
                                    "(No column name)": "18"
                                },
                                {
                                    "SZOBA_SZAMA": "25",
                                    "(No column name)": "17"
                                },
                                {
                                    "SZOBA_SZAMA": "27",
                                    "(No column name)": "12"
                                },
                                {
                                    "SZOBA_SZAMA": "29",
                                    "(No column name)": "15"
                                },
                                {
                                    "SZOBA_SZAMA": "3",
                                    "(No column name)": "53"
                                },
                                {
                                    "SZOBA_SZAMA": "31",
                                    "(No column name)": "19"
                                },
                                {
                                    "SZOBA_SZAMA": "33",
                                    "(No column name)": "17"
                                },
                                {
                                    "SZOBA_SZAMA": "5",
                                    "(No column name)": "53"
                                },
                                {
                                    "SZOBA_SZAMA": "7",
                                    "(No column name)": "32"
                                },
                                {
                                    "SZOBA_SZAMA": "9",
                                    "(No column name)": "41"
                                },
                                {
                                    "SZOBA_SZAMA": "3",
                                    "(No column name)": "12"
                                }
                            ]
                        },
                        "text/html": [
                            "<table>",
                            "<tr><th>SZOBA_SZAMA</th><th>(No column name)</th><th>(No column name)</th></tr>",
                            "<tr><td>1</td><td>2016</td><td>52</td></tr>",
                            "<tr><td>11</td><td>2016</td><td>22</td></tr>",
                            "<tr><td>13</td><td>2016</td><td>14</td></tr>",
                            "<tr><td>15</td><td>2016</td><td>16</td></tr>",
                            "<tr><td>17</td><td>2016</td><td>16</td></tr>",
                            "<tr><td>19</td><td>2016</td><td>14</td></tr>",
                            "<tr><td>21</td><td>2016</td><td>29</td></tr>",
                            "<tr><td>23</td><td>2016</td><td>18</td></tr>",
                            "<tr><td>25</td><td>2016</td><td>17</td></tr>",
                            "<tr><td>27</td><td>2016</td><td>12</td></tr>",
                            "<tr><td>29</td><td>2016</td><td>15</td></tr>",
                            "<tr><td>3</td><td>2016</td><td>53</td></tr>",
                            "<tr><td>31</td><td>2016</td><td>19</td></tr>",
                            "<tr><td>33</td><td>2016</td><td>17</td></tr>",
                            "<tr><td>5</td><td>2016</td><td>53</td></tr>",
                            "<tr><td>7</td><td>2016</td><td>32</td></tr>",
                            "<tr><td>9</td><td>2016</td><td>41</td></tr>",
                            "<tr><td>3</td><td>2017</td><td>12</td></tr>",
                            "</table>"
                        ]
                    }
                }
            ],
            "execution_count": 23
        }
    ]
}